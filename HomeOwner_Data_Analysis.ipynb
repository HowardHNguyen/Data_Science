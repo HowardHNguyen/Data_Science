{
  "nbformat": 4,
  "nbformat_minor": 0,
  "metadata": {
    "colab": {
      "name": "HomeOwner Data Analysis.ipynb",
      "provenance": [],
      "authorship_tag": "ABX9TyP6ROgTFYHJp417B6z48QC0",
      "include_colab_link": true
    },
    "kernelspec": {
      "name": "python3",
      "display_name": "Python 3"
    },
    "language_info": {
      "name": "python"
    }
  },
  "cells": [
    {
      "cell_type": "markdown",
      "metadata": {
        "id": "view-in-github",
        "colab_type": "text"
      },
      "source": [
        "<a href=\"https://colab.research.google.com/github/HowardHNguyen/Marketing_Data_Science/blob/main/HomeOwner_Data_Analysis.ipynb\" target=\"_parent\"><img src=\"https://colab.research.google.com/assets/colab-badge.svg\" alt=\"Open In Colab\"/></a>"
      ]
    },
    {
      "cell_type": "code",
      "metadata": {
        "colab": {
          "base_uri": "https://localhost:8080/"
        },
        "id": "nZepygP-gAy0",
        "outputId": "6812f9f4-ab87-4fd8-98e0-edbf1cd474b5"
      },
      "source": [
        "from google.colab import drive\n",
        "drive.mount('/content/drive/')"
      ],
      "execution_count": null,
      "outputs": [
        {
          "output_type": "stream",
          "name": "stdout",
          "text": [
            "Mounted at /content/drive/\n"
          ]
        }
      ]
    },
    {
      "cell_type": "code",
      "metadata": {
        "id": "W0L4neN8gDx8"
      },
      "source": [
        "# percentage\n",
        "def percentage(a,b):\n",
        "  if b== 0:\n",
        "    return None\n",
        "  return ((a/b)*100)"
      ],
      "execution_count": null,
      "outputs": []
    },
    {
      "cell_type": "code",
      "metadata": {
        "id": "7nw1Fm1XN0fm"
      },
      "source": [
        "import pandas as pd"
      ],
      "execution_count": null,
      "outputs": []
    },
    {
      "cell_type": "code",
      "metadata": {
        "id": "wq9CtQm7gLar",
        "colab": {
          "base_uri": "https://localhost:8080/",
          "height": 250
        },
        "outputId": "9a515b12-a988-4bc8-9dd8-4da447810dda"
      },
      "source": [
        "# read data files and merge them together\n",
        "import pandas as pd\n",
        "df1 = pd.read_csv('/content/drive/MyDrive/data/7-29-2021-to-10-13-2021-Leads.csv')\n",
        "df2 = pd.read_csv('/content/drive/MyDrive/data/10-22-2021-All-Leads-BK.csv')\n",
        "#concat both df into a single df\n",
        "data10222021 = pd.concat([df1,df2])\n",
        "data10222021.head(2)"
      ],
      "execution_count": null,
      "outputs": [
        {
          "output_type": "stream",
          "name": "stderr",
          "text": [
            "/usr/local/lib/python3.7/dist-packages/IPython/core/interactiveshell.py:2718: DtypeWarning: Columns (30,31,35,44,55,58) have mixed types.Specify dtype option on import or set low_memory=False.\n",
            "  interactivity=interactivity, compiler=compiler, result=result)\n",
            "/usr/local/lib/python3.7/dist-packages/IPython/core/interactiveshell.py:2718: DtypeWarning: Columns (28,29,42,53,54,56) have mixed types.Specify dtype option on import or set low_memory=False.\n",
            "  interactivity=interactivity, compiler=compiler, result=result)\n"
          ]
        },
        {
          "output_type": "execute_result",
          "data": {
            "text/html": [
              "<div>\n",
              "<style scoped>\n",
              "    .dataframe tbody tr th:only-of-type {\n",
              "        vertical-align: middle;\n",
              "    }\n",
              "\n",
              "    .dataframe tbody tr th {\n",
              "        vertical-align: top;\n",
              "    }\n",
              "\n",
              "    .dataframe thead th {\n",
              "        text-align: right;\n",
              "    }\n",
              "</style>\n",
              "<table border=\"1\" class=\"dataframe\">\n",
              "  <thead>\n",
              "    <tr style=\"text-align: right;\">\n",
              "      <th></th>\n",
              "      <th>Unnamed: 0</th>\n",
              "      <th>Unnamed: 0.1</th>\n",
              "      <th>Internal_Score__c</th>\n",
              "      <th>SBLManager_Lookup__c</th>\n",
              "      <th>Name</th>\n",
              "      <th>AnnualRevenue</th>\n",
              "      <th>Borrower_Type__c</th>\n",
              "      <th>Business_History_Months__c</th>\n",
              "      <th>Business_Monthly_Revenue__c</th>\n",
              "      <th>Business_Name__c</th>\n",
              "      <th>Business_State__c</th>\n",
              "      <th>Campaign__c</th>\n",
              "      <th>CampaignId__c</th>\n",
              "      <th>ConvertedAccountId</th>\n",
              "      <th>ConvertedContactId</th>\n",
              "      <th>ConvertedOpportunityId</th>\n",
              "      <th>CreatedById</th>\n",
              "      <th>CreatedDate</th>\n",
              "      <th>Date_of_Birth_DOB__c</th>\n",
              "      <th>Dis_Other_Messaging__c</th>\n",
              "      <th>Email</th>\n",
              "      <th>HasOptedOutOfEmail</th>\n",
              "      <th>FirstName</th>\n",
              "      <th>IndividualId</th>\n",
              "      <th>LastModifiedById</th>\n",
              "      <th>LastName</th>\n",
              "      <th>Id</th>\n",
              "      <th>Loan_Agent__c</th>\n",
              "      <th>Loan_Status__c</th>\n",
              "      <th>MasterRecordId</th>\n",
              "      <th>MiddleName</th>\n",
              "      <th>MobilePhone</th>\n",
              "      <th>Monthly_Income__c</th>\n",
              "      <th>OwnerId</th>\n",
              "      <th>PartnerAccountId</th>\n",
              "      <th>Phone</th>\n",
              "      <th>Pricing_Version__c</th>\n",
              "      <th>RecordTypeId</th>\n",
              "      <th>Requested_Loan_Amount__c</th>\n",
              "      <th>Selected_Product__c</th>\n",
              "      <th>SSN_Verification__c</th>\n",
              "      <th>State__c</th>\n",
              "      <th>Status</th>\n",
              "      <th>Preferred_Language__c</th>\n",
              "      <th>Affiliate_ID_Number__c</th>\n",
              "      <th>Affiliate_Name__c</th>\n",
              "      <th>Is_Homeowner__c</th>\n",
              "      <th>Lead_Creator__c</th>\n",
              "      <th>Original_Loan_Agent__c</th>\n",
              "      <th>Loan_Amount__c</th>\n",
              "      <th>IsConverted</th>\n",
              "      <th>DoNotCall</th>\n",
              "      <th>Highest_Step__c</th>\n",
              "      <th>Loan_Partner__c</th>\n",
              "      <th>Mailer_Approved__c</th>\n",
              "      <th>Mailer_ID__c</th>\n",
              "      <th>Referral__c</th>\n",
              "      <th>Sanco_Lead_Id__c</th>\n",
              "      <th>Sanco_Status__c</th>\n",
              "      <th>State_Code</th>\n",
              "    </tr>\n",
              "  </thead>\n",
              "  <tbody>\n",
              "    <tr>\n",
              "      <th>0</th>\n",
              "      <td>0.0</td>\n",
              "      <td>0.0</td>\n",
              "      <td>410.0</td>\n",
              "      <td>NaN</td>\n",
              "      <td>JEREMIAH LAMBERT</td>\n",
              "      <td>NaN</td>\n",
              "      <td>New</td>\n",
              "      <td>NaN</td>\n",
              "      <td>NaN</td>\n",
              "      <td>NaN</td>\n",
              "      <td>NaN</td>\n",
              "      <td>7011U000000hVf2QAE</td>\n",
              "      <td>3706.0</td>\n",
              "      <td>NaN</td>\n",
              "      <td>NaN</td>\n",
              "      <td>NaN</td>\n",
              "      <td>0051U000006PGsoQAG</td>\n",
              "      <td>5/24/2021 11:56:19 AM</td>\n",
              "      <td>8/29/1997 12:00:00 AM</td>\n",
              "      <td>False</td>\n",
              "      <td>maldonadoiris035@gmail.com</td>\n",
              "      <td>False</td>\n",
              "      <td>JEREMIAH</td>\n",
              "      <td>NaN</td>\n",
              "      <td>0051U000006PGsoQAG</td>\n",
              "      <td>LAMBERT</td>\n",
              "      <td>00Q1U00000TMMhKUAX</td>\n",
              "      <td>0051U000006PTLwQAO</td>\n",
              "      <td>Pending Denial</td>\n",
              "      <td>NaN</td>\n",
              "      <td>NaN</td>\n",
              "      <td>6063594267</td>\n",
              "      <td>0</td>\n",
              "      <td>0051U000006PTLwQAO</td>\n",
              "      <td>NaN</td>\n",
              "      <td>8592673208</td>\n",
              "      <td>a1k1U000002KiGUQA0</td>\n",
              "      <td>0121U000000jV0pQAE</td>\n",
              "      <td>2000.0</td>\n",
              "      <td>NaN</td>\n",
              "      <td>a1o1U000003HVB6QAO</td>\n",
              "      <td>KY</td>\n",
              "      <td>Rejected Lead</td>\n",
              "      <td>NaN</td>\n",
              "      <td>5182</td>\n",
              "      <td>Loanry - C</td>\n",
              "      <td>False</td>\n",
              "      <td>NaN</td>\n",
              "      <td>NaN</td>\n",
              "      <td>0</td>\n",
              "      <td>False</td>\n",
              "      <td>False</td>\n",
              "      <td>NaN</td>\n",
              "      <td>NaN</td>\n",
              "      <td>False</td>\n",
              "      <td>NaN</td>\n",
              "      <td>NaN</td>\n",
              "      <td>NaN</td>\n",
              "      <td>NaN</td>\n",
              "      <td>NaN</td>\n",
              "    </tr>\n",
              "    <tr>\n",
              "      <th>1</th>\n",
              "      <td>1.0</td>\n",
              "      <td>1.0</td>\n",
              "      <td>638.0</td>\n",
              "      <td>NaN</td>\n",
              "      <td>STEVE DEBOSE</td>\n",
              "      <td>NaN</td>\n",
              "      <td>New</td>\n",
              "      <td>NaN</td>\n",
              "      <td>NaN</td>\n",
              "      <td>NaN</td>\n",
              "      <td>NaN</td>\n",
              "      <td>7011U000000hSl2QAE</td>\n",
              "      <td>2716.0</td>\n",
              "      <td>NaN</td>\n",
              "      <td>NaN</td>\n",
              "      <td>NaN</td>\n",
              "      <td>0051U000006PGsoQAG</td>\n",
              "      <td>5/24/2021 11:34:01 AM</td>\n",
              "      <td>11/26/1976 12:00:00 AM</td>\n",
              "      <td>False</td>\n",
              "      <td>debose34@gmail.com</td>\n",
              "      <td>False</td>\n",
              "      <td>STEVE</td>\n",
              "      <td>NaN</td>\n",
              "      <td>0051U000006PGsoQAG</td>\n",
              "      <td>DEBOSE</td>\n",
              "      <td>00Q1U00000TMMhMUAX</td>\n",
              "      <td>0051U000006PTLwQAO</td>\n",
              "      <td>Pending Denial</td>\n",
              "      <td>NaN</td>\n",
              "      <td>NaN</td>\n",
              "      <td>4073145448</td>\n",
              "      <td>4000</td>\n",
              "      <td>0051U000006PTLwQAO</td>\n",
              "      <td>NaN</td>\n",
              "      <td>4073145448</td>\n",
              "      <td>a1k1U000002KiGUQA0</td>\n",
              "      <td>0121U000000jV0pQAE</td>\n",
              "      <td>2500.0</td>\n",
              "      <td>NaN</td>\n",
              "      <td>a1o1U000003ODjcQAG</td>\n",
              "      <td>FL</td>\n",
              "      <td>Rejected Lead</td>\n",
              "      <td>NaN</td>\n",
              "      <td>4947</td>\n",
              "      <td>Monevo - C</td>\n",
              "      <td>False</td>\n",
              "      <td>NaN</td>\n",
              "      <td>NaN</td>\n",
              "      <td>0</td>\n",
              "      <td>False</td>\n",
              "      <td>False</td>\n",
              "      <td>NaN</td>\n",
              "      <td>NaN</td>\n",
              "      <td>False</td>\n",
              "      <td>NaN</td>\n",
              "      <td>NaN</td>\n",
              "      <td>NaN</td>\n",
              "      <td>NaN</td>\n",
              "      <td>NaN</td>\n",
              "    </tr>\n",
              "  </tbody>\n",
              "</table>\n",
              "</div>"
            ],
            "text/plain": [
              "   Unnamed: 0  Unnamed: 0.1  ...  Sanco_Status__c State_Code\n",
              "0         0.0           0.0  ...              NaN        NaN\n",
              "1         1.0           1.0  ...              NaN        NaN\n",
              "\n",
              "[2 rows x 60 columns]"
            ]
          },
          "metadata": {},
          "execution_count": 44
        }
      ]
    },
    {
      "cell_type": "code",
      "metadata": {
        "id": "ZzldLZgoLHE7"
      },
      "source": [
        "# export to file - records upto 10-22 2021\n",
        "data10222021.to_csv('/content/drive/MyDrive/data/RawData-10222021.csv', index=False)"
      ],
      "execution_count": null,
      "outputs": []
    },
    {
      "cell_type": "code",
      "metadata": {
        "colab": {
          "base_uri": "https://localhost:8080/",
          "height": 360
        },
        "id": "CHynO6ZXLG8d",
        "outputId": "1810f87f-20a7-400a-9bc7-5933aa659fc8"
      },
      "source": [
        "RawData_10222021 = pd.read_csv('/content/drive/MyDrive/data/RawData-10222021.csv')\n",
        "RawData_10222021.head()"
      ],
      "execution_count": null,
      "outputs": [
        {
          "output_type": "stream",
          "name": "stderr",
          "text": [
            "/usr/local/lib/python3.7/dist-packages/IPython/core/interactiveshell.py:2718: DtypeWarning: Columns (30,31,35,44,55,56,58) have mixed types.Specify dtype option on import or set low_memory=False.\n",
            "  interactivity=interactivity, compiler=compiler, result=result)\n"
          ]
        },
        {
          "output_type": "execute_result",
          "data": {
            "text/html": [
              "<div>\n",
              "<style scoped>\n",
              "    .dataframe tbody tr th:only-of-type {\n",
              "        vertical-align: middle;\n",
              "    }\n",
              "\n",
              "    .dataframe tbody tr th {\n",
              "        vertical-align: top;\n",
              "    }\n",
              "\n",
              "    .dataframe thead th {\n",
              "        text-align: right;\n",
              "    }\n",
              "</style>\n",
              "<table border=\"1\" class=\"dataframe\">\n",
              "  <thead>\n",
              "    <tr style=\"text-align: right;\">\n",
              "      <th></th>\n",
              "      <th>Unnamed: 0</th>\n",
              "      <th>Unnamed: 0.1</th>\n",
              "      <th>Internal_Score__c</th>\n",
              "      <th>SBLManager_Lookup__c</th>\n",
              "      <th>Name</th>\n",
              "      <th>AnnualRevenue</th>\n",
              "      <th>Borrower_Type__c</th>\n",
              "      <th>Business_History_Months__c</th>\n",
              "      <th>Business_Monthly_Revenue__c</th>\n",
              "      <th>Business_Name__c</th>\n",
              "      <th>Business_State__c</th>\n",
              "      <th>Campaign__c</th>\n",
              "      <th>CampaignId__c</th>\n",
              "      <th>ConvertedAccountId</th>\n",
              "      <th>ConvertedContactId</th>\n",
              "      <th>ConvertedOpportunityId</th>\n",
              "      <th>CreatedById</th>\n",
              "      <th>CreatedDate</th>\n",
              "      <th>Date_of_Birth_DOB__c</th>\n",
              "      <th>Dis_Other_Messaging__c</th>\n",
              "      <th>Email</th>\n",
              "      <th>HasOptedOutOfEmail</th>\n",
              "      <th>FirstName</th>\n",
              "      <th>IndividualId</th>\n",
              "      <th>LastModifiedById</th>\n",
              "      <th>LastName</th>\n",
              "      <th>Id</th>\n",
              "      <th>Loan_Agent__c</th>\n",
              "      <th>Loan_Status__c</th>\n",
              "      <th>MasterRecordId</th>\n",
              "      <th>MiddleName</th>\n",
              "      <th>MobilePhone</th>\n",
              "      <th>Monthly_Income__c</th>\n",
              "      <th>OwnerId</th>\n",
              "      <th>PartnerAccountId</th>\n",
              "      <th>Phone</th>\n",
              "      <th>Pricing_Version__c</th>\n",
              "      <th>RecordTypeId</th>\n",
              "      <th>Requested_Loan_Amount__c</th>\n",
              "      <th>Selected_Product__c</th>\n",
              "      <th>SSN_Verification__c</th>\n",
              "      <th>State__c</th>\n",
              "      <th>Status</th>\n",
              "      <th>Preferred_Language__c</th>\n",
              "      <th>Affiliate_ID_Number__c</th>\n",
              "      <th>Affiliate_Name__c</th>\n",
              "      <th>Is_Homeowner__c</th>\n",
              "      <th>Lead_Creator__c</th>\n",
              "      <th>Original_Loan_Agent__c</th>\n",
              "      <th>Loan_Amount__c</th>\n",
              "      <th>IsConverted</th>\n",
              "      <th>DoNotCall</th>\n",
              "      <th>Highest_Step__c</th>\n",
              "      <th>Loan_Partner__c</th>\n",
              "      <th>Mailer_Approved__c</th>\n",
              "      <th>Mailer_ID__c</th>\n",
              "      <th>Referral__c</th>\n",
              "      <th>Sanco_Lead_Id__c</th>\n",
              "      <th>Sanco_Status__c</th>\n",
              "      <th>State_Code</th>\n",
              "    </tr>\n",
              "  </thead>\n",
              "  <tbody>\n",
              "    <tr>\n",
              "      <th>0</th>\n",
              "      <td>0.0</td>\n",
              "      <td>0.0</td>\n",
              "      <td>410.0</td>\n",
              "      <td>NaN</td>\n",
              "      <td>JEREMIAH LAMBERT</td>\n",
              "      <td>NaN</td>\n",
              "      <td>New</td>\n",
              "      <td>NaN</td>\n",
              "      <td>NaN</td>\n",
              "      <td>NaN</td>\n",
              "      <td>NaN</td>\n",
              "      <td>7011U000000hVf2QAE</td>\n",
              "      <td>3706.0</td>\n",
              "      <td>NaN</td>\n",
              "      <td>NaN</td>\n",
              "      <td>NaN</td>\n",
              "      <td>0051U000006PGsoQAG</td>\n",
              "      <td>5/24/2021 11:56:19 AM</td>\n",
              "      <td>8/29/1997 12:00:00 AM</td>\n",
              "      <td>False</td>\n",
              "      <td>maldonadoiris035@gmail.com</td>\n",
              "      <td>False</td>\n",
              "      <td>JEREMIAH</td>\n",
              "      <td>NaN</td>\n",
              "      <td>0051U000006PGsoQAG</td>\n",
              "      <td>LAMBERT</td>\n",
              "      <td>00Q1U00000TMMhKUAX</td>\n",
              "      <td>0051U000006PTLwQAO</td>\n",
              "      <td>Pending Denial</td>\n",
              "      <td>NaN</td>\n",
              "      <td>NaN</td>\n",
              "      <td>6063594267</td>\n",
              "      <td>0</td>\n",
              "      <td>0051U000006PTLwQAO</td>\n",
              "      <td>NaN</td>\n",
              "      <td>8592673208</td>\n",
              "      <td>a1k1U000002KiGUQA0</td>\n",
              "      <td>0121U000000jV0pQAE</td>\n",
              "      <td>2000.0</td>\n",
              "      <td>NaN</td>\n",
              "      <td>a1o1U000003HVB6QAO</td>\n",
              "      <td>KY</td>\n",
              "      <td>Rejected Lead</td>\n",
              "      <td>NaN</td>\n",
              "      <td>5182</td>\n",
              "      <td>Loanry - C</td>\n",
              "      <td>False</td>\n",
              "      <td>NaN</td>\n",
              "      <td>NaN</td>\n",
              "      <td>0</td>\n",
              "      <td>False</td>\n",
              "      <td>False</td>\n",
              "      <td>NaN</td>\n",
              "      <td>NaN</td>\n",
              "      <td>False</td>\n",
              "      <td>NaN</td>\n",
              "      <td>NaN</td>\n",
              "      <td>NaN</td>\n",
              "      <td>NaN</td>\n",
              "      <td>NaN</td>\n",
              "    </tr>\n",
              "    <tr>\n",
              "      <th>1</th>\n",
              "      <td>1.0</td>\n",
              "      <td>1.0</td>\n",
              "      <td>638.0</td>\n",
              "      <td>NaN</td>\n",
              "      <td>STEVE DEBOSE</td>\n",
              "      <td>NaN</td>\n",
              "      <td>New</td>\n",
              "      <td>NaN</td>\n",
              "      <td>NaN</td>\n",
              "      <td>NaN</td>\n",
              "      <td>NaN</td>\n",
              "      <td>7011U000000hSl2QAE</td>\n",
              "      <td>2716.0</td>\n",
              "      <td>NaN</td>\n",
              "      <td>NaN</td>\n",
              "      <td>NaN</td>\n",
              "      <td>0051U000006PGsoQAG</td>\n",
              "      <td>5/24/2021 11:34:01 AM</td>\n",
              "      <td>11/26/1976 12:00:00 AM</td>\n",
              "      <td>False</td>\n",
              "      <td>debose34@gmail.com</td>\n",
              "      <td>False</td>\n",
              "      <td>STEVE</td>\n",
              "      <td>NaN</td>\n",
              "      <td>0051U000006PGsoQAG</td>\n",
              "      <td>DEBOSE</td>\n",
              "      <td>00Q1U00000TMMhMUAX</td>\n",
              "      <td>0051U000006PTLwQAO</td>\n",
              "      <td>Pending Denial</td>\n",
              "      <td>NaN</td>\n",
              "      <td>NaN</td>\n",
              "      <td>4073145448</td>\n",
              "      <td>4000</td>\n",
              "      <td>0051U000006PTLwQAO</td>\n",
              "      <td>NaN</td>\n",
              "      <td>4073145448</td>\n",
              "      <td>a1k1U000002KiGUQA0</td>\n",
              "      <td>0121U000000jV0pQAE</td>\n",
              "      <td>2500.0</td>\n",
              "      <td>NaN</td>\n",
              "      <td>a1o1U000003ODjcQAG</td>\n",
              "      <td>FL</td>\n",
              "      <td>Rejected Lead</td>\n",
              "      <td>NaN</td>\n",
              "      <td>4947</td>\n",
              "      <td>Monevo - C</td>\n",
              "      <td>False</td>\n",
              "      <td>NaN</td>\n",
              "      <td>NaN</td>\n",
              "      <td>0</td>\n",
              "      <td>False</td>\n",
              "      <td>False</td>\n",
              "      <td>NaN</td>\n",
              "      <td>NaN</td>\n",
              "      <td>False</td>\n",
              "      <td>NaN</td>\n",
              "      <td>NaN</td>\n",
              "      <td>NaN</td>\n",
              "      <td>NaN</td>\n",
              "      <td>NaN</td>\n",
              "    </tr>\n",
              "    <tr>\n",
              "      <th>2</th>\n",
              "      <td>2.0</td>\n",
              "      <td>2.0</td>\n",
              "      <td>NaN</td>\n",
              "      <td>NaN</td>\n",
              "      <td>MARSHA WILLIAMS</td>\n",
              "      <td>NaN</td>\n",
              "      <td>New</td>\n",
              "      <td>NaN</td>\n",
              "      <td>NaN</td>\n",
              "      <td>NaN</td>\n",
              "      <td>NaN</td>\n",
              "      <td>7011U000000hSsaQAE</td>\n",
              "      <td>3184.0</td>\n",
              "      <td>NaN</td>\n",
              "      <td>NaN</td>\n",
              "      <td>NaN</td>\n",
              "      <td>0051U000006PGsoQAG</td>\n",
              "      <td>5/24/2021 11:34:12 AM</td>\n",
              "      <td>8/4/1961 12:00:00 AM</td>\n",
              "      <td>False</td>\n",
              "      <td>mwilliams0804@gmail.com</td>\n",
              "      <td>False</td>\n",
              "      <td>MARSHA</td>\n",
              "      <td>NaN</td>\n",
              "      <td>0051U000006PGsoQAG</td>\n",
              "      <td>WILLIAMS</td>\n",
              "      <td>00Q1U00000TMMhRUAX</td>\n",
              "      <td>0051U000006PTLwQAO</td>\n",
              "      <td>Pending Approval</td>\n",
              "      <td>NaN</td>\n",
              "      <td>NaN</td>\n",
              "      <td>3027503090</td>\n",
              "      <td>10800</td>\n",
              "      <td>0051U000006PTLwQAO</td>\n",
              "      <td>NaN</td>\n",
              "      <td>3027503090</td>\n",
              "      <td>a1k1U000002KiGUQA0</td>\n",
              "      <td>0121U000000jV0pQAE</td>\n",
              "      <td>1000.0</td>\n",
              "      <td>NaN</td>\n",
              "      <td>a1o1U000003O01bQAC</td>\n",
              "      <td>DE</td>\n",
              "      <td>Rejected Lead</td>\n",
              "      <td>NaN</td>\n",
              "      <td>4685</td>\n",
              "      <td>QuinStreet - C</td>\n",
              "      <td>True</td>\n",
              "      <td>NaN</td>\n",
              "      <td>NaN</td>\n",
              "      <td>0</td>\n",
              "      <td>False</td>\n",
              "      <td>False</td>\n",
              "      <td>NaN</td>\n",
              "      <td>NaN</td>\n",
              "      <td>False</td>\n",
              "      <td>NaN</td>\n",
              "      <td>NaN</td>\n",
              "      <td>NaN</td>\n",
              "      <td>NaN</td>\n",
              "      <td>NaN</td>\n",
              "    </tr>\n",
              "    <tr>\n",
              "      <th>3</th>\n",
              "      <td>3.0</td>\n",
              "      <td>3.0</td>\n",
              "      <td>625.0</td>\n",
              "      <td>NaN</td>\n",
              "      <td>WILLIAM SCHOSSR</td>\n",
              "      <td>NaN</td>\n",
              "      <td>New</td>\n",
              "      <td>NaN</td>\n",
              "      <td>NaN</td>\n",
              "      <td>NaN</td>\n",
              "      <td>NaN</td>\n",
              "      <td>7011U000000hVf2QAE</td>\n",
              "      <td>3706.0</td>\n",
              "      <td>NaN</td>\n",
              "      <td>NaN</td>\n",
              "      <td>NaN</td>\n",
              "      <td>0051U000006PGsoQAG</td>\n",
              "      <td>5/24/2021 11:34:51 AM</td>\n",
              "      <td>11/11/1960 12:00:00 AM</td>\n",
              "      <td>False</td>\n",
              "      <td>butchwalkaboutschosser@gmail.com</td>\n",
              "      <td>False</td>\n",
              "      <td>WILLIAM</td>\n",
              "      <td>NaN</td>\n",
              "      <td>0051U000007j2oMQAQ</td>\n",
              "      <td>SCHOSSR</td>\n",
              "      <td>00Q1U00000TMMhSUAX</td>\n",
              "      <td>0051U000006PTLwQAO</td>\n",
              "      <td>Pending Denial</td>\n",
              "      <td>NaN</td>\n",
              "      <td>NaN</td>\n",
              "      <td>9282990559</td>\n",
              "      <td>0</td>\n",
              "      <td>0051U000006PTLwQAO</td>\n",
              "      <td>NaN</td>\n",
              "      <td>9282990559</td>\n",
              "      <td>a1k1U000002KiGUQA0</td>\n",
              "      <td>0121U000000jV0pQAE</td>\n",
              "      <td>2000.0</td>\n",
              "      <td>NaN</td>\n",
              "      <td>NaN</td>\n",
              "      <td>AZ</td>\n",
              "      <td>Rejected Lead</td>\n",
              "      <td>NaN</td>\n",
              "      <td>5182</td>\n",
              "      <td>Loanry - C</td>\n",
              "      <td>False</td>\n",
              "      <td>NaN</td>\n",
              "      <td>NaN</td>\n",
              "      <td>0</td>\n",
              "      <td>False</td>\n",
              "      <td>False</td>\n",
              "      <td>NaN</td>\n",
              "      <td>NaN</td>\n",
              "      <td>False</td>\n",
              "      <td>NaN</td>\n",
              "      <td>NaN</td>\n",
              "      <td>NaN</td>\n",
              "      <td>NaN</td>\n",
              "      <td>NaN</td>\n",
              "    </tr>\n",
              "    <tr>\n",
              "      <th>4</th>\n",
              "      <td>4.0</td>\n",
              "      <td>4.0</td>\n",
              "      <td>643.0</td>\n",
              "      <td>NaN</td>\n",
              "      <td>JOSEPH VALLE</td>\n",
              "      <td>NaN</td>\n",
              "      <td>New</td>\n",
              "      <td>NaN</td>\n",
              "      <td>NaN</td>\n",
              "      <td>NaN</td>\n",
              "      <td>NaN</td>\n",
              "      <td>7011U000000hSsaQAE</td>\n",
              "      <td>3184.0</td>\n",
              "      <td>NaN</td>\n",
              "      <td>NaN</td>\n",
              "      <td>NaN</td>\n",
              "      <td>0051U000006PGsoQAG</td>\n",
              "      <td>5/24/2021 11:34:15 AM</td>\n",
              "      <td>9/15/1997 12:00:00 AM</td>\n",
              "      <td>False</td>\n",
              "      <td>jvalle0915@icloud.com</td>\n",
              "      <td>False</td>\n",
              "      <td>JOSEPH</td>\n",
              "      <td>NaN</td>\n",
              "      <td>0051U000006PGsoQAG</td>\n",
              "      <td>VALLE</td>\n",
              "      <td>00Q1U00000TMMhWUAX</td>\n",
              "      <td>0051U000006PTLwQAO</td>\n",
              "      <td>Pending Denial</td>\n",
              "      <td>NaN</td>\n",
              "      <td>NaN</td>\n",
              "      <td>6155468908</td>\n",
              "      <td>3000</td>\n",
              "      <td>0051U000006PTLwQAO</td>\n",
              "      <td>NaN</td>\n",
              "      <td>6155468908</td>\n",
              "      <td>a1k1U000002KiGUQA0</td>\n",
              "      <td>0121U000000jV0pQAE</td>\n",
              "      <td>1000.0</td>\n",
              "      <td>NaN</td>\n",
              "      <td>a1o1U000003OAQDQA4</td>\n",
              "      <td>TN</td>\n",
              "      <td>Rejected Lead</td>\n",
              "      <td>NaN</td>\n",
              "      <td>4685</td>\n",
              "      <td>QuinStreet - C</td>\n",
              "      <td>False</td>\n",
              "      <td>NaN</td>\n",
              "      <td>NaN</td>\n",
              "      <td>0</td>\n",
              "      <td>False</td>\n",
              "      <td>False</td>\n",
              "      <td>NaN</td>\n",
              "      <td>NaN</td>\n",
              "      <td>False</td>\n",
              "      <td>NaN</td>\n",
              "      <td>NaN</td>\n",
              "      <td>NaN</td>\n",
              "      <td>NaN</td>\n",
              "      <td>NaN</td>\n",
              "    </tr>\n",
              "  </tbody>\n",
              "</table>\n",
              "</div>"
            ],
            "text/plain": [
              "   Unnamed: 0  Unnamed: 0.1  ...  Sanco_Status__c State_Code\n",
              "0         0.0           0.0  ...              NaN        NaN\n",
              "1         1.0           1.0  ...              NaN        NaN\n",
              "2         2.0           2.0  ...              NaN        NaN\n",
              "3         3.0           3.0  ...              NaN        NaN\n",
              "4         4.0           4.0  ...              NaN        NaN\n",
              "\n",
              "[5 rows x 60 columns]"
            ]
          },
          "metadata": {},
          "execution_count": 4
        }
      ]
    },
    {
      "cell_type": "code",
      "metadata": {
        "colab": {
          "base_uri": "https://localhost:8080/"
        },
        "id": "Mwm8x79ZMmhg",
        "outputId": "5b2a05a3-c6fe-470b-e68a-a6bc319576c0"
      },
      "source": [
        "RawData_10222021.shape"
      ],
      "execution_count": null,
      "outputs": [
        {
          "output_type": "execute_result",
          "data": {
            "text/plain": [
              "(4344732, 60)"
            ]
          },
          "metadata": {},
          "execution_count": 5
        }
      ]
    },
    {
      "cell_type": "code",
      "metadata": {
        "id": "zKxn_AmwMmYB"
      },
      "source": [
        "# drop and remove duplicate - inplace =True\n",
        "# data.drop_duplicates(inplace=True)\n",
        "# drop duplicate based on Phone column\n",
        "data_10222021 = RawData_10222021.drop_duplicates(subset='Phone', keep=\"first\")"
      ],
      "execution_count": null,
      "outputs": []
    },
    {
      "cell_type": "code",
      "metadata": {
        "colab": {
          "base_uri": "https://localhost:8080/"
        },
        "id": "J_woo_k-MmSg",
        "outputId": "4a8e2b53-2d83-4126-e1b1-c7194b41c297"
      },
      "source": [
        "data_10222021.shape"
      ],
      "execution_count": null,
      "outputs": [
        {
          "output_type": "execute_result",
          "data": {
            "text/plain": [
              "(1338400, 60)"
            ]
          },
          "metadata": {},
          "execution_count": 11
        }
      ]
    },
    {
      "cell_type": "code",
      "metadata": {
        "id": "2nF5rM7gQrgg"
      },
      "source": [
        "# drop and remove duplicate - inplace =True\n",
        "# data.drop_duplicates(inplace=True)\n",
        "# drop duplicate based on Phone column\n",
        "data_Id10222021 = RawData_10222021.drop_duplicates(subset='Id', keep=\"first\")"
      ],
      "execution_count": null,
      "outputs": []
    },
    {
      "cell_type": "code",
      "metadata": {
        "colab": {
          "base_uri": "https://localhost:8080/"
        },
        "id": "uOZzcp6dQram",
        "outputId": "7242a0cc-7531-4f5d-9e79-72bf316877af"
      },
      "source": [
        "data_Id10222021.shape"
      ],
      "execution_count": null,
      "outputs": [
        {
          "output_type": "execute_result",
          "data": {
            "text/plain": [
              "(3072737, 60)"
            ]
          },
          "metadata": {},
          "execution_count": 7
        }
      ]
    },
    {
      "cell_type": "code",
      "metadata": {
        "id": "Be9on49hLGzr"
      },
      "source": [
        "#Export file\n",
        "data_Id10222021.to_csv('/content/drive/MyDrive/data/RawCleanData_10222021.csv', index=False)"
      ],
      "execution_count": null,
      "outputs": []
    },
    {
      "cell_type": "code",
      "metadata": {
        "colab": {
          "base_uri": "https://localhost:8080/",
          "height": 264
        },
        "id": "iiZNc4-NShDa",
        "outputId": "4d319a99-e29a-4f30-8169-a21e581c6827"
      },
      "source": [
        "data_all = pd.read_csv('/content/drive/MyDrive/data/RawCleanData_10222021.csv')\n",
        "data_all.head(3)"
      ],
      "execution_count": null,
      "outputs": [
        {
          "output_type": "stream",
          "name": "stderr",
          "text": [
            "/usr/local/lib/python3.7/dist-packages/IPython/core/interactiveshell.py:2718: DtypeWarning: Columns (30,31,35,44,55,56,58) have mixed types.Specify dtype option on import or set low_memory=False.\n",
            "  interactivity=interactivity, compiler=compiler, result=result)\n"
          ]
        },
        {
          "output_type": "execute_result",
          "data": {
            "text/html": [
              "<div>\n",
              "<style scoped>\n",
              "    .dataframe tbody tr th:only-of-type {\n",
              "        vertical-align: middle;\n",
              "    }\n",
              "\n",
              "    .dataframe tbody tr th {\n",
              "        vertical-align: top;\n",
              "    }\n",
              "\n",
              "    .dataframe thead th {\n",
              "        text-align: right;\n",
              "    }\n",
              "</style>\n",
              "<table border=\"1\" class=\"dataframe\">\n",
              "  <thead>\n",
              "    <tr style=\"text-align: right;\">\n",
              "      <th></th>\n",
              "      <th>Unnamed: 0</th>\n",
              "      <th>Unnamed: 0.1</th>\n",
              "      <th>Internal_Score__c</th>\n",
              "      <th>SBLManager_Lookup__c</th>\n",
              "      <th>Name</th>\n",
              "      <th>AnnualRevenue</th>\n",
              "      <th>Borrower_Type__c</th>\n",
              "      <th>Business_History_Months__c</th>\n",
              "      <th>Business_Monthly_Revenue__c</th>\n",
              "      <th>Business_Name__c</th>\n",
              "      <th>Business_State__c</th>\n",
              "      <th>Campaign__c</th>\n",
              "      <th>CampaignId__c</th>\n",
              "      <th>ConvertedAccountId</th>\n",
              "      <th>ConvertedContactId</th>\n",
              "      <th>ConvertedOpportunityId</th>\n",
              "      <th>CreatedById</th>\n",
              "      <th>CreatedDate</th>\n",
              "      <th>Date_of_Birth_DOB__c</th>\n",
              "      <th>Dis_Other_Messaging__c</th>\n",
              "      <th>Email</th>\n",
              "      <th>HasOptedOutOfEmail</th>\n",
              "      <th>FirstName</th>\n",
              "      <th>IndividualId</th>\n",
              "      <th>LastModifiedById</th>\n",
              "      <th>LastName</th>\n",
              "      <th>Id</th>\n",
              "      <th>Loan_Agent__c</th>\n",
              "      <th>Loan_Status__c</th>\n",
              "      <th>MasterRecordId</th>\n",
              "      <th>MiddleName</th>\n",
              "      <th>MobilePhone</th>\n",
              "      <th>Monthly_Income__c</th>\n",
              "      <th>OwnerId</th>\n",
              "      <th>PartnerAccountId</th>\n",
              "      <th>Phone</th>\n",
              "      <th>Pricing_Version__c</th>\n",
              "      <th>RecordTypeId</th>\n",
              "      <th>Requested_Loan_Amount__c</th>\n",
              "      <th>Selected_Product__c</th>\n",
              "      <th>SSN_Verification__c</th>\n",
              "      <th>State__c</th>\n",
              "      <th>Status</th>\n",
              "      <th>Preferred_Language__c</th>\n",
              "      <th>Affiliate_ID_Number__c</th>\n",
              "      <th>Affiliate_Name__c</th>\n",
              "      <th>Is_Homeowner__c</th>\n",
              "      <th>Lead_Creator__c</th>\n",
              "      <th>Original_Loan_Agent__c</th>\n",
              "      <th>Loan_Amount__c</th>\n",
              "      <th>IsConverted</th>\n",
              "      <th>DoNotCall</th>\n",
              "      <th>Highest_Step__c</th>\n",
              "      <th>Loan_Partner__c</th>\n",
              "      <th>Mailer_Approved__c</th>\n",
              "      <th>Mailer_ID__c</th>\n",
              "      <th>Referral__c</th>\n",
              "      <th>Sanco_Lead_Id__c</th>\n",
              "      <th>Sanco_Status__c</th>\n",
              "      <th>State_Code</th>\n",
              "    </tr>\n",
              "  </thead>\n",
              "  <tbody>\n",
              "    <tr>\n",
              "      <th>0</th>\n",
              "      <td>0.0</td>\n",
              "      <td>0.0</td>\n",
              "      <td>410.0</td>\n",
              "      <td>NaN</td>\n",
              "      <td>JEREMIAH LAMBERT</td>\n",
              "      <td>NaN</td>\n",
              "      <td>New</td>\n",
              "      <td>NaN</td>\n",
              "      <td>NaN</td>\n",
              "      <td>NaN</td>\n",
              "      <td>NaN</td>\n",
              "      <td>7011U000000hVf2QAE</td>\n",
              "      <td>3706.0</td>\n",
              "      <td>NaN</td>\n",
              "      <td>NaN</td>\n",
              "      <td>NaN</td>\n",
              "      <td>0051U000006PGsoQAG</td>\n",
              "      <td>5/24/2021 11:56:19 AM</td>\n",
              "      <td>8/29/1997 12:00:00 AM</td>\n",
              "      <td>False</td>\n",
              "      <td>maldonadoiris035@gmail.com</td>\n",
              "      <td>False</td>\n",
              "      <td>JEREMIAH</td>\n",
              "      <td>NaN</td>\n",
              "      <td>0051U000006PGsoQAG</td>\n",
              "      <td>LAMBERT</td>\n",
              "      <td>00Q1U00000TMMhKUAX</td>\n",
              "      <td>0051U000006PTLwQAO</td>\n",
              "      <td>Pending Denial</td>\n",
              "      <td>NaN</td>\n",
              "      <td>NaN</td>\n",
              "      <td>6063594267</td>\n",
              "      <td>0</td>\n",
              "      <td>0051U000006PTLwQAO</td>\n",
              "      <td>NaN</td>\n",
              "      <td>8592673208</td>\n",
              "      <td>a1k1U000002KiGUQA0</td>\n",
              "      <td>0121U000000jV0pQAE</td>\n",
              "      <td>2000.0</td>\n",
              "      <td>NaN</td>\n",
              "      <td>a1o1U000003HVB6QAO</td>\n",
              "      <td>KY</td>\n",
              "      <td>Rejected Lead</td>\n",
              "      <td>NaN</td>\n",
              "      <td>5182</td>\n",
              "      <td>Loanry - C</td>\n",
              "      <td>False</td>\n",
              "      <td>NaN</td>\n",
              "      <td>NaN</td>\n",
              "      <td>0</td>\n",
              "      <td>False</td>\n",
              "      <td>False</td>\n",
              "      <td>NaN</td>\n",
              "      <td>NaN</td>\n",
              "      <td>False</td>\n",
              "      <td>NaN</td>\n",
              "      <td>NaN</td>\n",
              "      <td>NaN</td>\n",
              "      <td>NaN</td>\n",
              "      <td>NaN</td>\n",
              "    </tr>\n",
              "    <tr>\n",
              "      <th>1</th>\n",
              "      <td>1.0</td>\n",
              "      <td>1.0</td>\n",
              "      <td>638.0</td>\n",
              "      <td>NaN</td>\n",
              "      <td>STEVE DEBOSE</td>\n",
              "      <td>NaN</td>\n",
              "      <td>New</td>\n",
              "      <td>NaN</td>\n",
              "      <td>NaN</td>\n",
              "      <td>NaN</td>\n",
              "      <td>NaN</td>\n",
              "      <td>7011U000000hSl2QAE</td>\n",
              "      <td>2716.0</td>\n",
              "      <td>NaN</td>\n",
              "      <td>NaN</td>\n",
              "      <td>NaN</td>\n",
              "      <td>0051U000006PGsoQAG</td>\n",
              "      <td>5/24/2021 11:34:01 AM</td>\n",
              "      <td>11/26/1976 12:00:00 AM</td>\n",
              "      <td>False</td>\n",
              "      <td>debose34@gmail.com</td>\n",
              "      <td>False</td>\n",
              "      <td>STEVE</td>\n",
              "      <td>NaN</td>\n",
              "      <td>0051U000006PGsoQAG</td>\n",
              "      <td>DEBOSE</td>\n",
              "      <td>00Q1U00000TMMhMUAX</td>\n",
              "      <td>0051U000006PTLwQAO</td>\n",
              "      <td>Pending Denial</td>\n",
              "      <td>NaN</td>\n",
              "      <td>NaN</td>\n",
              "      <td>4073145448</td>\n",
              "      <td>4000</td>\n",
              "      <td>0051U000006PTLwQAO</td>\n",
              "      <td>NaN</td>\n",
              "      <td>4073145448</td>\n",
              "      <td>a1k1U000002KiGUQA0</td>\n",
              "      <td>0121U000000jV0pQAE</td>\n",
              "      <td>2500.0</td>\n",
              "      <td>NaN</td>\n",
              "      <td>a1o1U000003ODjcQAG</td>\n",
              "      <td>FL</td>\n",
              "      <td>Rejected Lead</td>\n",
              "      <td>NaN</td>\n",
              "      <td>4947</td>\n",
              "      <td>Monevo - C</td>\n",
              "      <td>False</td>\n",
              "      <td>NaN</td>\n",
              "      <td>NaN</td>\n",
              "      <td>0</td>\n",
              "      <td>False</td>\n",
              "      <td>False</td>\n",
              "      <td>NaN</td>\n",
              "      <td>NaN</td>\n",
              "      <td>False</td>\n",
              "      <td>NaN</td>\n",
              "      <td>NaN</td>\n",
              "      <td>NaN</td>\n",
              "      <td>NaN</td>\n",
              "      <td>NaN</td>\n",
              "    </tr>\n",
              "    <tr>\n",
              "      <th>2</th>\n",
              "      <td>2.0</td>\n",
              "      <td>2.0</td>\n",
              "      <td>NaN</td>\n",
              "      <td>NaN</td>\n",
              "      <td>MARSHA WILLIAMS</td>\n",
              "      <td>NaN</td>\n",
              "      <td>New</td>\n",
              "      <td>NaN</td>\n",
              "      <td>NaN</td>\n",
              "      <td>NaN</td>\n",
              "      <td>NaN</td>\n",
              "      <td>7011U000000hSsaQAE</td>\n",
              "      <td>3184.0</td>\n",
              "      <td>NaN</td>\n",
              "      <td>NaN</td>\n",
              "      <td>NaN</td>\n",
              "      <td>0051U000006PGsoQAG</td>\n",
              "      <td>5/24/2021 11:34:12 AM</td>\n",
              "      <td>8/4/1961 12:00:00 AM</td>\n",
              "      <td>False</td>\n",
              "      <td>mwilliams0804@gmail.com</td>\n",
              "      <td>False</td>\n",
              "      <td>MARSHA</td>\n",
              "      <td>NaN</td>\n",
              "      <td>0051U000006PGsoQAG</td>\n",
              "      <td>WILLIAMS</td>\n",
              "      <td>00Q1U00000TMMhRUAX</td>\n",
              "      <td>0051U000006PTLwQAO</td>\n",
              "      <td>Pending Approval</td>\n",
              "      <td>NaN</td>\n",
              "      <td>NaN</td>\n",
              "      <td>3027503090</td>\n",
              "      <td>10800</td>\n",
              "      <td>0051U000006PTLwQAO</td>\n",
              "      <td>NaN</td>\n",
              "      <td>3027503090</td>\n",
              "      <td>a1k1U000002KiGUQA0</td>\n",
              "      <td>0121U000000jV0pQAE</td>\n",
              "      <td>1000.0</td>\n",
              "      <td>NaN</td>\n",
              "      <td>a1o1U000003O01bQAC</td>\n",
              "      <td>DE</td>\n",
              "      <td>Rejected Lead</td>\n",
              "      <td>NaN</td>\n",
              "      <td>4685</td>\n",
              "      <td>QuinStreet - C</td>\n",
              "      <td>True</td>\n",
              "      <td>NaN</td>\n",
              "      <td>NaN</td>\n",
              "      <td>0</td>\n",
              "      <td>False</td>\n",
              "      <td>False</td>\n",
              "      <td>NaN</td>\n",
              "      <td>NaN</td>\n",
              "      <td>False</td>\n",
              "      <td>NaN</td>\n",
              "      <td>NaN</td>\n",
              "      <td>NaN</td>\n",
              "      <td>NaN</td>\n",
              "      <td>NaN</td>\n",
              "    </tr>\n",
              "  </tbody>\n",
              "</table>\n",
              "</div>"
            ],
            "text/plain": [
              "   Unnamed: 0  Unnamed: 0.1  ...  Sanco_Status__c State_Code\n",
              "0         0.0           0.0  ...              NaN        NaN\n",
              "1         1.0           1.0  ...              NaN        NaN\n",
              "2         2.0           2.0  ...              NaN        NaN\n",
              "\n",
              "[3 rows x 60 columns]"
            ]
          },
          "metadata": {},
          "execution_count": 8
        }
      ]
    },
    {
      "cell_type": "code",
      "metadata": {
        "colab": {
          "base_uri": "https://localhost:8080/",
          "height": 165
        },
        "id": "rZKR0Ypp5N6S",
        "outputId": "871aedcb-ce66-4414-8a65-94b8f1c65ed7"
      },
      "source": [
        "# clean dataset for modeling\n",
        "data_clean = data_all.drop(['Unnamed: 0','Unnamed: 0.1','Sanco_Status__c','Sanco_Lead_Id__c','Mailer_ID__c','Preferred_Language__c','SSN_Verification__c',\n",
        "                            'Selected_Product__c','SBLManager_Lookup__c','Name',\n",
        "                            'RecordTypeId','Pricing_Version__c','PartnerAccountId','OwnerId','MiddleName','Loan_Agent__c','MasterRecordId',\n",
        "                            'IndividualId','CreatedById','ConvertedOpportunityId','ConvertedContactId','ConvertedAccountId','Borrower_Type__c'], axis=1)\n",
        "data_clean.head(2)"
      ],
      "execution_count": null,
      "outputs": [
        {
          "output_type": "execute_result",
          "data": {
            "text/html": [
              "<div>\n",
              "<style scoped>\n",
              "    .dataframe tbody tr th:only-of-type {\n",
              "        vertical-align: middle;\n",
              "    }\n",
              "\n",
              "    .dataframe tbody tr th {\n",
              "        vertical-align: top;\n",
              "    }\n",
              "\n",
              "    .dataframe thead th {\n",
              "        text-align: right;\n",
              "    }\n",
              "</style>\n",
              "<table border=\"1\" class=\"dataframe\">\n",
              "  <thead>\n",
              "    <tr style=\"text-align: right;\">\n",
              "      <th></th>\n",
              "      <th>Internal_Score__c</th>\n",
              "      <th>AnnualRevenue</th>\n",
              "      <th>Business_History_Months__c</th>\n",
              "      <th>Business_Monthly_Revenue__c</th>\n",
              "      <th>Business_Name__c</th>\n",
              "      <th>Business_State__c</th>\n",
              "      <th>Campaign__c</th>\n",
              "      <th>CampaignId__c</th>\n",
              "      <th>CreatedDate</th>\n",
              "      <th>Date_of_Birth_DOB__c</th>\n",
              "      <th>Dis_Other_Messaging__c</th>\n",
              "      <th>Email</th>\n",
              "      <th>HasOptedOutOfEmail</th>\n",
              "      <th>FirstName</th>\n",
              "      <th>LastModifiedById</th>\n",
              "      <th>LastName</th>\n",
              "      <th>Id</th>\n",
              "      <th>Loan_Status__c</th>\n",
              "      <th>MobilePhone</th>\n",
              "      <th>Monthly_Income__c</th>\n",
              "      <th>Phone</th>\n",
              "      <th>Requested_Loan_Amount__c</th>\n",
              "      <th>State__c</th>\n",
              "      <th>Status</th>\n",
              "      <th>Affiliate_ID_Number__c</th>\n",
              "      <th>Affiliate_Name__c</th>\n",
              "      <th>Is_Homeowner__c</th>\n",
              "      <th>Lead_Creator__c</th>\n",
              "      <th>Original_Loan_Agent__c</th>\n",
              "      <th>Loan_Amount__c</th>\n",
              "      <th>IsConverted</th>\n",
              "      <th>DoNotCall</th>\n",
              "      <th>Highest_Step__c</th>\n",
              "      <th>Loan_Partner__c</th>\n",
              "      <th>Mailer_Approved__c</th>\n",
              "      <th>Referral__c</th>\n",
              "      <th>State_Code</th>\n",
              "    </tr>\n",
              "  </thead>\n",
              "  <tbody>\n",
              "    <tr>\n",
              "      <th>0</th>\n",
              "      <td>410.0</td>\n",
              "      <td>NaN</td>\n",
              "      <td>NaN</td>\n",
              "      <td>NaN</td>\n",
              "      <td>NaN</td>\n",
              "      <td>NaN</td>\n",
              "      <td>7011U000000hVf2QAE</td>\n",
              "      <td>3706.0</td>\n",
              "      <td>5/24/2021 11:56:19 AM</td>\n",
              "      <td>8/29/1997 12:00:00 AM</td>\n",
              "      <td>False</td>\n",
              "      <td>maldonadoiris035@gmail.com</td>\n",
              "      <td>False</td>\n",
              "      <td>JEREMIAH</td>\n",
              "      <td>0051U000006PGsoQAG</td>\n",
              "      <td>LAMBERT</td>\n",
              "      <td>00Q1U00000TMMhKUAX</td>\n",
              "      <td>Pending Denial</td>\n",
              "      <td>6063594267</td>\n",
              "      <td>0</td>\n",
              "      <td>8592673208</td>\n",
              "      <td>2000.0</td>\n",
              "      <td>KY</td>\n",
              "      <td>Rejected Lead</td>\n",
              "      <td>5182</td>\n",
              "      <td>Loanry - C</td>\n",
              "      <td>False</td>\n",
              "      <td>NaN</td>\n",
              "      <td>NaN</td>\n",
              "      <td>0</td>\n",
              "      <td>False</td>\n",
              "      <td>False</td>\n",
              "      <td>NaN</td>\n",
              "      <td>NaN</td>\n",
              "      <td>False</td>\n",
              "      <td>NaN</td>\n",
              "      <td>NaN</td>\n",
              "    </tr>\n",
              "    <tr>\n",
              "      <th>1</th>\n",
              "      <td>638.0</td>\n",
              "      <td>NaN</td>\n",
              "      <td>NaN</td>\n",
              "      <td>NaN</td>\n",
              "      <td>NaN</td>\n",
              "      <td>NaN</td>\n",
              "      <td>7011U000000hSl2QAE</td>\n",
              "      <td>2716.0</td>\n",
              "      <td>5/24/2021 11:34:01 AM</td>\n",
              "      <td>11/26/1976 12:00:00 AM</td>\n",
              "      <td>False</td>\n",
              "      <td>debose34@gmail.com</td>\n",
              "      <td>False</td>\n",
              "      <td>STEVE</td>\n",
              "      <td>0051U000006PGsoQAG</td>\n",
              "      <td>DEBOSE</td>\n",
              "      <td>00Q1U00000TMMhMUAX</td>\n",
              "      <td>Pending Denial</td>\n",
              "      <td>4073145448</td>\n",
              "      <td>4000</td>\n",
              "      <td>4073145448</td>\n",
              "      <td>2500.0</td>\n",
              "      <td>FL</td>\n",
              "      <td>Rejected Lead</td>\n",
              "      <td>4947</td>\n",
              "      <td>Monevo - C</td>\n",
              "      <td>False</td>\n",
              "      <td>NaN</td>\n",
              "      <td>NaN</td>\n",
              "      <td>0</td>\n",
              "      <td>False</td>\n",
              "      <td>False</td>\n",
              "      <td>NaN</td>\n",
              "      <td>NaN</td>\n",
              "      <td>False</td>\n",
              "      <td>NaN</td>\n",
              "      <td>NaN</td>\n",
              "    </tr>\n",
              "  </tbody>\n",
              "</table>\n",
              "</div>"
            ],
            "text/plain": [
              "   Internal_Score__c  AnnualRevenue  ...  Referral__c  State_Code\n",
              "0              410.0            NaN  ...          NaN         NaN\n",
              "1              638.0            NaN  ...          NaN         NaN\n",
              "\n",
              "[2 rows x 37 columns]"
            ]
          },
          "metadata": {},
          "execution_count": 9
        }
      ]
    },
    {
      "cell_type": "code",
      "metadata": {
        "colab": {
          "base_uri": "https://localhost:8080/"
        },
        "id": "DirMLqErSg15",
        "outputId": "2ea72cdf-fa70-42ca-e98a-76c8997d1001"
      },
      "source": [
        "data_clean.shape"
      ],
      "execution_count": null,
      "outputs": [
        {
          "output_type": "execute_result",
          "data": {
            "text/plain": [
              "(3072737, 37)"
            ]
          },
          "metadata": {},
          "execution_count": 10
        }
      ]
    },
    {
      "cell_type": "code",
      "metadata": {
        "colab": {
          "base_uri": "https://localhost:8080/",
          "height": 69
        },
        "id": "5jE_EfLIndZn",
        "outputId": "03249209-cf9d-4eed-9f90-55beb1926050"
      },
      "source": [
        "Antoi = data_clean[data_clean.FirstName == 'Antoi']\n",
        "Antoi.head(20)"
      ],
      "execution_count": null,
      "outputs": [
        {
          "output_type": "execute_result",
          "data": {
            "text/html": [
              "<div>\n",
              "<style scoped>\n",
              "    .dataframe tbody tr th:only-of-type {\n",
              "        vertical-align: middle;\n",
              "    }\n",
              "\n",
              "    .dataframe tbody tr th {\n",
              "        vertical-align: top;\n",
              "    }\n",
              "\n",
              "    .dataframe thead th {\n",
              "        text-align: right;\n",
              "    }\n",
              "</style>\n",
              "<table border=\"1\" class=\"dataframe\">\n",
              "  <thead>\n",
              "    <tr style=\"text-align: right;\">\n",
              "      <th></th>\n",
              "      <th>Internal_Score__c</th>\n",
              "      <th>AnnualRevenue</th>\n",
              "      <th>Business_History_Months__c</th>\n",
              "      <th>Business_Monthly_Revenue__c</th>\n",
              "      <th>Business_Name__c</th>\n",
              "      <th>Business_State__c</th>\n",
              "      <th>Campaign__c</th>\n",
              "      <th>CampaignId__c</th>\n",
              "      <th>CreatedDate</th>\n",
              "      <th>Date_of_Birth_DOB__c</th>\n",
              "      <th>Dis_Other_Messaging__c</th>\n",
              "      <th>Email</th>\n",
              "      <th>HasOptedOutOfEmail</th>\n",
              "      <th>FirstName</th>\n",
              "      <th>LastModifiedById</th>\n",
              "      <th>LastName</th>\n",
              "      <th>Id</th>\n",
              "      <th>Loan_Status__c</th>\n",
              "      <th>MobilePhone</th>\n",
              "      <th>Monthly_Income__c</th>\n",
              "      <th>Phone</th>\n",
              "      <th>Requested_Loan_Amount__c</th>\n",
              "      <th>State__c</th>\n",
              "      <th>Status</th>\n",
              "      <th>Affiliate_ID_Number__c</th>\n",
              "      <th>Affiliate_Name__c</th>\n",
              "      <th>Is_Homeowner__c</th>\n",
              "      <th>Lead_Creator__c</th>\n",
              "      <th>Original_Loan_Agent__c</th>\n",
              "      <th>Loan_Amount__c</th>\n",
              "      <th>IsConverted</th>\n",
              "      <th>DoNotCall</th>\n",
              "      <th>Highest_Step__c</th>\n",
              "      <th>Loan_Partner__c</th>\n",
              "      <th>Mailer_Approved__c</th>\n",
              "      <th>Referral__c</th>\n",
              "      <th>State_Code</th>\n",
              "    </tr>\n",
              "  </thead>\n",
              "  <tbody>\n",
              "  </tbody>\n",
              "</table>\n",
              "</div>"
            ],
            "text/plain": [
              "Empty DataFrame\n",
              "Columns: [Internal_Score__c, AnnualRevenue, Business_History_Months__c, Business_Monthly_Revenue__c, Business_Name__c, Business_State__c, Campaign__c, CampaignId__c, CreatedDate, Date_of_Birth_DOB__c, Dis_Other_Messaging__c, Email, HasOptedOutOfEmail, FirstName, LastModifiedById, LastName, Id, Loan_Status__c, MobilePhone, Monthly_Income__c, Phone, Requested_Loan_Amount__c, State__c, Status, Affiliate_ID_Number__c, Affiliate_Name__c, Is_Homeowner__c, Lead_Creator__c, Original_Loan_Agent__c, Loan_Amount__c, IsConverted, DoNotCall, Highest_Step__c, Loan_Partner__c, Mailer_Approved__c, Referral__c, State_Code]\n",
              "Index: []"
            ]
          },
          "metadata": {},
          "execution_count": 29
        }
      ]
    },
    {
      "cell_type": "code",
      "metadata": {
        "id": "Pk8CdM9FndLk"
      },
      "source": [
        ""
      ],
      "execution_count": null,
      "outputs": []
    },
    {
      "cell_type": "code",
      "metadata": {
        "id": "hQsDvmjY6Hwo"
      },
      "source": [
        "data_clean.groupby('Is_Homeowner__c')['Status'].count()"
      ],
      "execution_count": null,
      "outputs": []
    },
    {
      "cell_type": "code",
      "metadata": {
        "colab": {
          "base_uri": "https://localhost:8080/"
        },
        "id": "HMx14Dn-ndE9",
        "outputId": "9c98184f-33fb-4a5d-8e27-e45c6508d192"
      },
      "source": [
        "percentage(443393,2629344)"
      ],
      "execution_count": null,
      "outputs": [
        {
          "output_type": "execute_result",
          "data": {
            "text/plain": [
              "16.86325562573783"
            ]
          },
          "metadata": {},
          "execution_count": 15
        }
      ]
    },
    {
      "cell_type": "code",
      "metadata": {
        "colab": {
          "base_uri": "https://localhost:8080/",
          "height": 165
        },
        "id": "lHEmOlGA591r",
        "outputId": "dd26cca7-16ed-4e4a-b026-142bdaad11bc"
      },
      "source": [
        "# Select only LoanMePrime list - PPC source\n",
        "LoanMePrime_data = data_clean[data_clean.Affiliate_Name__c == 'LoanMePrime.com - C']\n",
        "LoanMePrime_data.tail(2)"
      ],
      "execution_count": null,
      "outputs": [
        {
          "output_type": "execute_result",
          "data": {
            "text/html": [
              "<div>\n",
              "<style scoped>\n",
              "    .dataframe tbody tr th:only-of-type {\n",
              "        vertical-align: middle;\n",
              "    }\n",
              "\n",
              "    .dataframe tbody tr th {\n",
              "        vertical-align: top;\n",
              "    }\n",
              "\n",
              "    .dataframe thead th {\n",
              "        text-align: right;\n",
              "    }\n",
              "</style>\n",
              "<table border=\"1\" class=\"dataframe\">\n",
              "  <thead>\n",
              "    <tr style=\"text-align: right;\">\n",
              "      <th></th>\n",
              "      <th>Internal_Score__c</th>\n",
              "      <th>AnnualRevenue</th>\n",
              "      <th>Business_History_Months__c</th>\n",
              "      <th>Business_Monthly_Revenue__c</th>\n",
              "      <th>Business_Name__c</th>\n",
              "      <th>Business_State__c</th>\n",
              "      <th>Campaign__c</th>\n",
              "      <th>CampaignId__c</th>\n",
              "      <th>CreatedDate</th>\n",
              "      <th>Date_of_Birth_DOB__c</th>\n",
              "      <th>Dis_Other_Messaging__c</th>\n",
              "      <th>Email</th>\n",
              "      <th>HasOptedOutOfEmail</th>\n",
              "      <th>FirstName</th>\n",
              "      <th>LastModifiedById</th>\n",
              "      <th>LastName</th>\n",
              "      <th>Id</th>\n",
              "      <th>Loan_Status__c</th>\n",
              "      <th>MobilePhone</th>\n",
              "      <th>Monthly_Income__c</th>\n",
              "      <th>Phone</th>\n",
              "      <th>Requested_Loan_Amount__c</th>\n",
              "      <th>State__c</th>\n",
              "      <th>Status</th>\n",
              "      <th>Affiliate_ID_Number__c</th>\n",
              "      <th>Affiliate_Name__c</th>\n",
              "      <th>Is_Homeowner__c</th>\n",
              "      <th>Lead_Creator__c</th>\n",
              "      <th>Original_Loan_Agent__c</th>\n",
              "      <th>Loan_Amount__c</th>\n",
              "      <th>IsConverted</th>\n",
              "      <th>DoNotCall</th>\n",
              "      <th>Highest_Step__c</th>\n",
              "      <th>Loan_Partner__c</th>\n",
              "      <th>Mailer_Approved__c</th>\n",
              "      <th>Referral__c</th>\n",
              "      <th>State_Code</th>\n",
              "    </tr>\n",
              "  </thead>\n",
              "  <tbody>\n",
              "    <tr>\n",
              "      <th>3072594</th>\n",
              "      <td>613.0</td>\n",
              "      <td>NaN</td>\n",
              "      <td>NaN</td>\n",
              "      <td>NaN</td>\n",
              "      <td>NaN</td>\n",
              "      <td>NaN</td>\n",
              "      <td>7011U000000hSjDQAU</td>\n",
              "      <td>2603.0</td>\n",
              "      <td>10/19/2021 2:28:21 PM</td>\n",
              "      <td>3/27/1955 12:00:00 AM</td>\n",
              "      <td>True</td>\n",
              "      <td>donnacupp265@gmail.com</td>\n",
              "      <td>False</td>\n",
              "      <td>DONNA</td>\n",
              "      <td>0051U000006PTLwQAO</td>\n",
              "      <td>CUPP</td>\n",
              "      <td>00Q4X00001raOwpUAE</td>\n",
              "      <td>Pending Denial</td>\n",
              "      <td>NaN</td>\n",
              "      <td>4700</td>\n",
              "      <td>9.18315e+09</td>\n",
              "      <td>NaN</td>\n",
              "      <td>OK</td>\n",
              "      <td>Failed Prequal</td>\n",
              "      <td>5042</td>\n",
              "      <td>LoanMePrime.com - C</td>\n",
              "      <td>False</td>\n",
              "      <td>NaN</td>\n",
              "      <td>NaN</td>\n",
              "      <td>0</td>\n",
              "      <td>False</td>\n",
              "      <td>False</td>\n",
              "      <td>NaN</td>\n",
              "      <td>NaN</td>\n",
              "      <td>False</td>\n",
              "      <td>NaN</td>\n",
              "      <td>NaN</td>\n",
              "    </tr>\n",
              "    <tr>\n",
              "      <th>3072601</th>\n",
              "      <td>661.0</td>\n",
              "      <td>NaN</td>\n",
              "      <td>NaN</td>\n",
              "      <td>NaN</td>\n",
              "      <td>NaN</td>\n",
              "      <td>NaN</td>\n",
              "      <td>7011U000000hSjDQAU</td>\n",
              "      <td>2603.0</td>\n",
              "      <td>10/19/2021 2:28:50 PM</td>\n",
              "      <td>3/8/1954 12:00:00 AM</td>\n",
              "      <td>False</td>\n",
              "      <td>bjfrog19@yahoo.com</td>\n",
              "      <td>False</td>\n",
              "      <td>BONNIE</td>\n",
              "      <td>0051U000006PTLwQAO</td>\n",
              "      <td>STEPHENS</td>\n",
              "      <td>00Q4X00001raOxsUAE</td>\n",
              "      <td>Pending Denial</td>\n",
              "      <td>NaN</td>\n",
              "      <td>1099</td>\n",
              "      <td>7.14659e+09</td>\n",
              "      <td>3100.0</td>\n",
              "      <td>CA</td>\n",
              "      <td>Failed Prequal</td>\n",
              "      <td>5042</td>\n",
              "      <td>LoanMePrime.com - C</td>\n",
              "      <td>False</td>\n",
              "      <td>NaN</td>\n",
              "      <td>NaN</td>\n",
              "      <td>0</td>\n",
              "      <td>False</td>\n",
              "      <td>False</td>\n",
              "      <td>NaN</td>\n",
              "      <td>NaN</td>\n",
              "      <td>False</td>\n",
              "      <td>NaN</td>\n",
              "      <td>NaN</td>\n",
              "    </tr>\n",
              "  </tbody>\n",
              "</table>\n",
              "</div>"
            ],
            "text/plain": [
              "         Internal_Score__c  AnnualRevenue  ...  Referral__c  State_Code\n",
              "3072594              613.0            NaN  ...          NaN         NaN\n",
              "3072601              661.0            NaN  ...          NaN         NaN\n",
              "\n",
              "[2 rows x 37 columns]"
            ]
          },
          "metadata": {},
          "execution_count": 11
        }
      ]
    },
    {
      "cell_type": "code",
      "metadata": {
        "colab": {
          "base_uri": "https://localhost:8080/"
        },
        "id": "Ctza7Wa5-NIz",
        "outputId": "2d447d2f-a1bc-4bf1-f8e7-61790511dd13"
      },
      "source": [
        "LoanMePrime_data.shape"
      ],
      "execution_count": null,
      "outputs": [
        {
          "output_type": "execute_result",
          "data": {
            "text/plain": [
              "(20089, 37)"
            ]
          },
          "metadata": {},
          "execution_count": 28
        }
      ]
    },
    {
      "cell_type": "code",
      "metadata": {
        "id": "K7HEGU-L-NDq"
      },
      "source": [
        ""
      ],
      "execution_count": null,
      "outputs": []
    },
    {
      "cell_type": "code",
      "metadata": {
        "colab": {
          "base_uri": "https://localhost:8080/"
        },
        "id": "bYTG16n91HU_",
        "outputId": "e70316b3-95d0-48c0-c51f-0729290ae1b2"
      },
      "source": [
        "data_clean['Status'].isnull().sum()"
      ],
      "execution_count": null,
      "outputs": [
        {
          "output_type": "execute_result",
          "data": {
            "text/plain": [
              "0"
            ]
          },
          "metadata": {},
          "execution_count": 13
        }
      ]
    },
    {
      "cell_type": "code",
      "metadata": {
        "id": "ILlhBGDRBHSh",
        "colab": {
          "base_uri": "https://localhost:8080/"
        },
        "outputId": "a49b4dd2-5045-41c3-e12d-20b2d71dd5fe"
      },
      "source": [
        "data_clean.isnull().sum()"
      ],
      "execution_count": null,
      "outputs": [
        {
          "output_type": "execute_result",
          "data": {
            "text/plain": [
              "Internal_Score__c              1450981\n",
              "AnnualRevenue                  3072737\n",
              "Business_History_Months__c     3064306\n",
              "Business_Monthly_Revenue__c    3062941\n",
              "Business_Name__c               3058317\n",
              "Business_State__c              3057975\n",
              "Campaign__c                          0\n",
              "CampaignId__c                      191\n",
              "CreatedDate                          0\n",
              "Date_of_Birth_DOB__c             18604\n",
              "Dis_Other_Messaging__c               0\n",
              "Email                             1018\n",
              "HasOptedOutOfEmail                   0\n",
              "FirstName                           14\n",
              "LastModifiedById                     0\n",
              "LastName                            86\n",
              "Id                                   0\n",
              "Loan_Status__c                       0\n",
              "MobilePhone                     791923\n",
              "Monthly_Income__c                    0\n",
              "Phone                            46669\n",
              "Requested_Loan_Amount__c        250446\n",
              "State__c                          1511\n",
              "Status                               0\n",
              "Affiliate_ID_Number__c               0\n",
              "Affiliate_Name__c                    0\n",
              "Is_Homeowner__c                      0\n",
              "Lead_Creator__c                3061895\n",
              "Original_Loan_Agent__c         2221971\n",
              "Loan_Amount__c                       0\n",
              "IsConverted                          0\n",
              "DoNotCall                            0\n",
              "Highest_Step__c                3072737\n",
              "Loan_Partner__c                2826309\n",
              "Mailer_Approved__c                   0\n",
              "Referral__c                    3068570\n",
              "State_Code                     3072737\n",
              "dtype: int64"
            ]
          },
          "metadata": {},
          "execution_count": 14
        }
      ]
    },
    {
      "cell_type": "code",
      "metadata": {
        "colab": {
          "base_uri": "https://localhost:8080/"
        },
        "id": "FqkXkuC6dwbt",
        "outputId": "4f592630-c4c0-49a0-dc83-a70ef2c6b44a"
      },
      "source": [
        "data_clean['Status'].value_counts"
      ],
      "execution_count": null,
      "outputs": [
        {
          "output_type": "execute_result",
          "data": {
            "text/plain": [
              "<bound method IndexOpsMixin.value_counts of 0                  Rejected Lead\n",
              "1                  Rejected Lead\n",
              "2                  Rejected Lead\n",
              "3                  Rejected Lead\n",
              "4                  Rejected Lead\n",
              "                   ...          \n",
              "3072732            Rejected Lead\n",
              "3072733                      New\n",
              "3072734    Called - Left Message\n",
              "3072735                      New\n",
              "3072736            Rejected Lead\n",
              "Name: Status, Length: 3072737, dtype: object>"
            ]
          },
          "metadata": {},
          "execution_count": 17
        }
      ]
    },
    {
      "cell_type": "code",
      "metadata": {
        "colab": {
          "base_uri": "https://localhost:8080/",
          "height": 855
        },
        "id": "NSTRWBHieHZ4",
        "outputId": "8750aace-91a4-41ed-dcf0-1dfd620b52c6"
      },
      "source": [
        "data_clean.groupby('Status')['Loan_Amount__c'].describe()"
      ],
      "execution_count": null,
      "outputs": [
        {
          "output_type": "execute_result",
          "data": {
            "text/html": [
              "<div>\n",
              "<style scoped>\n",
              "    .dataframe tbody tr th:only-of-type {\n",
              "        vertical-align: middle;\n",
              "    }\n",
              "\n",
              "    .dataframe tbody tr th {\n",
              "        vertical-align: top;\n",
              "    }\n",
              "\n",
              "    .dataframe thead th {\n",
              "        text-align: right;\n",
              "    }\n",
              "</style>\n",
              "<table border=\"1\" class=\"dataframe\">\n",
              "  <thead>\n",
              "    <tr style=\"text-align: right;\">\n",
              "      <th></th>\n",
              "      <th>count</th>\n",
              "      <th>mean</th>\n",
              "      <th>std</th>\n",
              "      <th>min</th>\n",
              "      <th>25%</th>\n",
              "      <th>50%</th>\n",
              "      <th>75%</th>\n",
              "      <th>max</th>\n",
              "    </tr>\n",
              "    <tr>\n",
              "      <th>Status</th>\n",
              "      <th></th>\n",
              "      <th></th>\n",
              "      <th></th>\n",
              "      <th></th>\n",
              "      <th></th>\n",
              "      <th></th>\n",
              "      <th></th>\n",
              "      <th></th>\n",
              "    </tr>\n",
              "  </thead>\n",
              "  <tbody>\n",
              "    <tr>\n",
              "      <th>Appointment Set</th>\n",
              "      <td>1199.0</td>\n",
              "      <td>3298.509591</td>\n",
              "      <td>6086.109107</td>\n",
              "      <td>0.0</td>\n",
              "      <td>0.0</td>\n",
              "      <td>2100.0</td>\n",
              "      <td>4000.00</td>\n",
              "      <td>100000.0</td>\n",
              "    </tr>\n",
              "    <tr>\n",
              "      <th>Bad Contact Info</th>\n",
              "      <td>6794.0</td>\n",
              "      <td>2341.271122</td>\n",
              "      <td>2905.091471</td>\n",
              "      <td>0.0</td>\n",
              "      <td>0.0</td>\n",
              "      <td>1500.0</td>\n",
              "      <td>3000.00</td>\n",
              "      <td>70000.0</td>\n",
              "    </tr>\n",
              "    <tr>\n",
              "      <th>Broker Commission Set</th>\n",
              "      <td>13.0</td>\n",
              "      <td>31161.538462</td>\n",
              "      <td>35225.311412</td>\n",
              "      <td>0.0</td>\n",
              "      <td>0.0</td>\n",
              "      <td>3000.0</td>\n",
              "      <td>75000.00</td>\n",
              "      <td>75000.0</td>\n",
              "    </tr>\n",
              "    <tr>\n",
              "      <th>Call Transferred</th>\n",
              "      <td>1239.0</td>\n",
              "      <td>1914.850686</td>\n",
              "      <td>2751.564362</td>\n",
              "      <td>0.0</td>\n",
              "      <td>0.0</td>\n",
              "      <td>1100.0</td>\n",
              "      <td>2900.00</td>\n",
              "      <td>20000.0</td>\n",
              "    </tr>\n",
              "    <tr>\n",
              "      <th>Call successful</th>\n",
              "      <td>2444.0</td>\n",
              "      <td>2696.749182</td>\n",
              "      <td>3215.046607</td>\n",
              "      <td>0.0</td>\n",
              "      <td>1100.0</td>\n",
              "      <td>2200.0</td>\n",
              "      <td>3000.00</td>\n",
              "      <td>70000.0</td>\n",
              "    </tr>\n",
              "    <tr>\n",
              "      <th>Called - Left Message</th>\n",
              "      <td>159219.0</td>\n",
              "      <td>2796.002851</td>\n",
              "      <td>3039.579571</td>\n",
              "      <td>0.0</td>\n",
              "      <td>1100.0</td>\n",
              "      <td>2200.0</td>\n",
              "      <td>3300.00</td>\n",
              "      <td>150000.0</td>\n",
              "    </tr>\n",
              "    <tr>\n",
              "      <th>Called - No Contact</th>\n",
              "      <td>42150.0</td>\n",
              "      <td>2365.131127</td>\n",
              "      <td>2955.103416</td>\n",
              "      <td>0.0</td>\n",
              "      <td>0.0</td>\n",
              "      <td>1700.0</td>\n",
              "      <td>3000.00</td>\n",
              "      <td>100000.0</td>\n",
              "    </tr>\n",
              "    <tr>\n",
              "      <th>Converted</th>\n",
              "      <td>58349.0</td>\n",
              "      <td>5319.631236</td>\n",
              "      <td>12735.670159</td>\n",
              "      <td>0.0</td>\n",
              "      <td>1700.0</td>\n",
              "      <td>2800.0</td>\n",
              "      <td>3500.00</td>\n",
              "      <td>200000.0</td>\n",
              "    </tr>\n",
              "    <tr>\n",
              "      <th>Duplicate</th>\n",
              "      <td>11477.0</td>\n",
              "      <td>176.374488</td>\n",
              "      <td>1833.800109</td>\n",
              "      <td>0.0</td>\n",
              "      <td>0.0</td>\n",
              "      <td>0.0</td>\n",
              "      <td>0.00</td>\n",
              "      <td>100000.0</td>\n",
              "    </tr>\n",
              "    <tr>\n",
              "      <th>Failed Prequal</th>\n",
              "      <td>76493.0</td>\n",
              "      <td>182.376819</td>\n",
              "      <td>1271.116910</td>\n",
              "      <td>0.0</td>\n",
              "      <td>0.0</td>\n",
              "      <td>0.0</td>\n",
              "      <td>0.00</td>\n",
              "      <td>100000.0</td>\n",
              "    </tr>\n",
              "    <tr>\n",
              "      <th>Failed Prequal - Bad Credit Pull</th>\n",
              "      <td>4076.0</td>\n",
              "      <td>192.545633</td>\n",
              "      <td>1000.928964</td>\n",
              "      <td>0.0</td>\n",
              "      <td>0.0</td>\n",
              "      <td>0.0</td>\n",
              "      <td>0.00</td>\n",
              "      <td>20000.0</td>\n",
              "    </tr>\n",
              "    <tr>\n",
              "      <th>Lending Tree - Prequal</th>\n",
              "      <td>1401.0</td>\n",
              "      <td>3390.578158</td>\n",
              "      <td>2958.477445</td>\n",
              "      <td>0.0</td>\n",
              "      <td>1971.0</td>\n",
              "      <td>3000.0</td>\n",
              "      <td>4129.00</td>\n",
              "      <td>20000.0</td>\n",
              "    </tr>\n",
              "    <tr>\n",
              "      <th>New</th>\n",
              "      <td>25670.0</td>\n",
              "      <td>2114.773004</td>\n",
              "      <td>3187.072613</td>\n",
              "      <td>0.0</td>\n",
              "      <td>0.0</td>\n",
              "      <td>1500.0</td>\n",
              "      <td>3000.00</td>\n",
              "      <td>100000.0</td>\n",
              "    </tr>\n",
              "    <tr>\n",
              "      <th>No Bank Account</th>\n",
              "      <td>1389.0</td>\n",
              "      <td>1902.613391</td>\n",
              "      <td>2220.843514</td>\n",
              "      <td>0.0</td>\n",
              "      <td>0.0</td>\n",
              "      <td>1500.0</td>\n",
              "      <td>2750.00</td>\n",
              "      <td>20000.0</td>\n",
              "    </tr>\n",
              "    <tr>\n",
              "      <th>No answer</th>\n",
              "      <td>1190.0</td>\n",
              "      <td>2833.163025</td>\n",
              "      <td>2846.380303</td>\n",
              "      <td>0.0</td>\n",
              "      <td>1100.0</td>\n",
              "      <td>2200.0</td>\n",
              "      <td>3300.00</td>\n",
              "      <td>19250.0</td>\n",
              "    </tr>\n",
              "    <tr>\n",
              "      <th>Non Supported State</th>\n",
              "      <td>1264.0</td>\n",
              "      <td>1122.488133</td>\n",
              "      <td>2952.393326</td>\n",
              "      <td>0.0</td>\n",
              "      <td>0.0</td>\n",
              "      <td>0.0</td>\n",
              "      <td>1616.25</td>\n",
              "      <td>75000.0</td>\n",
              "    </tr>\n",
              "    <tr>\n",
              "      <th>Not Interested</th>\n",
              "      <td>22427.0</td>\n",
              "      <td>3198.554956</td>\n",
              "      <td>5682.762215</td>\n",
              "      <td>0.0</td>\n",
              "      <td>1100.0</td>\n",
              "      <td>2500.0</td>\n",
              "      <td>3500.00</td>\n",
              "      <td>150000.0</td>\n",
              "    </tr>\n",
              "    <tr>\n",
              "      <th>Not Qualified</th>\n",
              "      <td>7738.0</td>\n",
              "      <td>1817.712846</td>\n",
              "      <td>6224.203137</td>\n",
              "      <td>0.0</td>\n",
              "      <td>0.0</td>\n",
              "      <td>600.0</td>\n",
              "      <td>2100.00</td>\n",
              "      <td>100000.0</td>\n",
              "    </tr>\n",
              "    <tr>\n",
              "      <th>Pending</th>\n",
              "      <td>2451.0</td>\n",
              "      <td>1373.733578</td>\n",
              "      <td>3027.067536</td>\n",
              "      <td>0.0</td>\n",
              "      <td>0.0</td>\n",
              "      <td>0.0</td>\n",
              "      <td>1650.00</td>\n",
              "      <td>100000.0</td>\n",
              "    </tr>\n",
              "    <tr>\n",
              "      <th>Pending Broker Commission</th>\n",
              "      <td>137.0</td>\n",
              "      <td>67427.007299</td>\n",
              "      <td>21418.667997</td>\n",
              "      <td>0.0</td>\n",
              "      <td>50000.0</td>\n",
              "      <td>75000.0</td>\n",
              "      <td>75000.00</td>\n",
              "      <td>100000.0</td>\n",
              "    </tr>\n",
              "    <tr>\n",
              "      <th>Pending Prequal</th>\n",
              "      <td>5870.0</td>\n",
              "      <td>3665.826917</td>\n",
              "      <td>3485.608462</td>\n",
              "      <td>0.0</td>\n",
              "      <td>1200.0</td>\n",
              "      <td>2400.0</td>\n",
              "      <td>4900.00</td>\n",
              "      <td>20000.0</td>\n",
              "    </tr>\n",
              "    <tr>\n",
              "      <th>Pitched</th>\n",
              "      <td>945.0</td>\n",
              "      <td>4648.459259</td>\n",
              "      <td>10300.766487</td>\n",
              "      <td>0.0</td>\n",
              "      <td>1500.0</td>\n",
              "      <td>2600.0</td>\n",
              "      <td>4300.00</td>\n",
              "      <td>150000.0</td>\n",
              "    </tr>\n",
              "    <tr>\n",
              "      <th>Pre-Paid Card</th>\n",
              "      <td>3060.0</td>\n",
              "      <td>1676.017647</td>\n",
              "      <td>1792.444763</td>\n",
              "      <td>0.0</td>\n",
              "      <td>800.0</td>\n",
              "      <td>1500.0</td>\n",
              "      <td>2200.00</td>\n",
              "      <td>20000.0</td>\n",
              "    </tr>\n",
              "    <tr>\n",
              "      <th>Rejected Lead</th>\n",
              "      <td>2635042.0</td>\n",
              "      <td>6.883855</td>\n",
              "      <td>619.280269</td>\n",
              "      <td>0.0</td>\n",
              "      <td>0.0</td>\n",
              "      <td>0.0</td>\n",
              "      <td>0.00</td>\n",
              "      <td>150000.0</td>\n",
              "    </tr>\n",
              "    <tr>\n",
              "      <th>Sanco</th>\n",
              "      <td>700.0</td>\n",
              "      <td>850.488571</td>\n",
              "      <td>1940.494171</td>\n",
              "      <td>0.0</td>\n",
              "      <td>0.0</td>\n",
              "      <td>0.0</td>\n",
              "      <td>0.00</td>\n",
              "      <td>20000.0</td>\n",
              "    </tr>\n",
              "  </tbody>\n",
              "</table>\n",
              "</div>"
            ],
            "text/plain": [
              "                                      count          mean  ...       75%       max\n",
              "Status                                                     ...                    \n",
              "Appointment Set                      1199.0   3298.509591  ...   4000.00  100000.0\n",
              "Bad Contact Info                     6794.0   2341.271122  ...   3000.00   70000.0\n",
              "Broker Commission Set                  13.0  31161.538462  ...  75000.00   75000.0\n",
              "Call Transferred                     1239.0   1914.850686  ...   2900.00   20000.0\n",
              "Call successful                      2444.0   2696.749182  ...   3000.00   70000.0\n",
              "Called - Left Message              159219.0   2796.002851  ...   3300.00  150000.0\n",
              "Called - No Contact                 42150.0   2365.131127  ...   3000.00  100000.0\n",
              "Converted                           58349.0   5319.631236  ...   3500.00  200000.0\n",
              "Duplicate                           11477.0    176.374488  ...      0.00  100000.0\n",
              "Failed Prequal                      76493.0    182.376819  ...      0.00  100000.0\n",
              "Failed Prequal - Bad Credit Pull     4076.0    192.545633  ...      0.00   20000.0\n",
              "Lending Tree - Prequal               1401.0   3390.578158  ...   4129.00   20000.0\n",
              "New                                 25670.0   2114.773004  ...   3000.00  100000.0\n",
              "No Bank Account                      1389.0   1902.613391  ...   2750.00   20000.0\n",
              "No answer                            1190.0   2833.163025  ...   3300.00   19250.0\n",
              "Non Supported State                  1264.0   1122.488133  ...   1616.25   75000.0\n",
              "Not Interested                      22427.0   3198.554956  ...   3500.00  150000.0\n",
              "Not Qualified                        7738.0   1817.712846  ...   2100.00  100000.0\n",
              "Pending                              2451.0   1373.733578  ...   1650.00  100000.0\n",
              "Pending Broker Commission             137.0  67427.007299  ...  75000.00  100000.0\n",
              "Pending Prequal                      5870.0   3665.826917  ...   4900.00   20000.0\n",
              "Pitched                               945.0   4648.459259  ...   4300.00  150000.0\n",
              "Pre-Paid Card                        3060.0   1676.017647  ...   2200.00   20000.0\n",
              "Rejected Lead                     2635042.0      6.883855  ...      0.00  150000.0\n",
              "Sanco                                 700.0    850.488571  ...      0.00   20000.0\n",
              "\n",
              "[25 rows x 8 columns]"
            ]
          },
          "metadata": {},
          "execution_count": 19
        }
      ]
    },
    {
      "cell_type": "code",
      "metadata": {
        "id": "ZSZMtE-X5ZgG"
      },
      "source": [
        "data_clean.corr()"
      ],
      "execution_count": null,
      "outputs": []
    },
    {
      "cell_type": "code",
      "metadata": {
        "id": "YLNWPH8o7lDX"
      },
      "source": [
        "data_clean.groupby('Affiliate_Name__c')['Loan_Amount__c'].describe()"
      ],
      "execution_count": null,
      "outputs": []
    },
    {
      "cell_type": "code",
      "metadata": {
        "id": "o_c852yZJEx8"
      },
      "source": [
        "data_clean.groupby('Status')['Campaign__c'].count()"
      ],
      "execution_count": null,
      "outputs": []
    },
    {
      "cell_type": "code",
      "metadata": {
        "id": "8OaObFGTMmxf"
      },
      "source": [
        "# read data file\n",
        "import pandas as pd\n",
        "prequal_leads = pd.read_csv('/content/drive/MyDrive/data/10-6-2021-Prequal---Leads-Not-Yet-Converted.csv')\n",
        "prequal_leads.head(2)"
      ],
      "execution_count": null,
      "outputs": []
    },
    {
      "cell_type": "code",
      "metadata": {
        "id": "adyAkjFZMmtp"
      },
      "source": [
        "prequal_leads.groupby('Affiliate_Name__c')['Status'].count()"
      ],
      "execution_count": null,
      "outputs": []
    },
    {
      "cell_type": "code",
      "metadata": {
        "colab": {
          "base_uri": "https://localhost:8080/"
        },
        "id": "vjK2WzTsMmqQ",
        "outputId": "07ef9f99-6883-4e1f-fa71-3f605857b98a"
      },
      "source": [
        "prequal_leads.shape"
      ],
      "execution_count": null,
      "outputs": [
        {
          "output_type": "execute_result",
          "data": {
            "text/plain": [
              "(1167, 11)"
            ]
          },
          "metadata": {},
          "execution_count": 22
        }
      ]
    },
    {
      "cell_type": "code",
      "metadata": {
        "id": "PpKQWiNl7N07"
      },
      "source": [
        "data_clean.describe()"
      ],
      "execution_count": null,
      "outputs": []
    },
    {
      "cell_type": "code",
      "metadata": {
        "colab": {
          "base_uri": "https://localhost:8080/"
        },
        "id": "OvQnJ9Rp6fp4",
        "outputId": "1a2ec635-9043-4bac-936a-0e95032c25ba"
      },
      "source": [
        "data_clean['Is_Homeowner__c'].value_counts()"
      ],
      "execution_count": null,
      "outputs": [
        {
          "output_type": "execute_result",
          "data": {
            "text/plain": [
              "False    2629344\n",
              "True      443393\n",
              "Name: Is_Homeowner__c, dtype: int64"
            ]
          },
          "metadata": {},
          "execution_count": 34
        }
      ]
    },
    {
      "cell_type": "code",
      "metadata": {
        "colab": {
          "base_uri": "https://localhost:8080/"
        },
        "id": "JN7r7RbsBBVS",
        "outputId": "41b3a736-e6aa-410d-fcc5-4bbd2392bafd"
      },
      "source": [
        "data_clean.shape"
      ],
      "execution_count": null,
      "outputs": [
        {
          "output_type": "execute_result",
          "data": {
            "text/plain": [
              "(3072737, 37)"
            ]
          },
          "metadata": {},
          "execution_count": 35
        }
      ]
    },
    {
      "cell_type": "code",
      "metadata": {
        "colab": {
          "base_uri": "https://localhost:8080/"
        },
        "id": "rVzVqiTiBGWh",
        "outputId": "3d1696a2-4750-4cfd-8a64-1e01c36ba8ea"
      },
      "source": [
        "2629344+443393"
      ],
      "execution_count": null,
      "outputs": [
        {
          "output_type": "execute_result",
          "data": {
            "text/plain": [
              "3072737"
            ]
          },
          "metadata": {},
          "execution_count": 36
        }
      ]
    },
    {
      "cell_type": "code",
      "metadata": {
        "colab": {
          "base_uri": "https://localhost:8080/"
        },
        "id": "r_r81X4o6fgR",
        "outputId": "0cac8093-55fe-4208-f179-7928efd3c70f"
      },
      "source": [
        "data_clean['Affiliate_Name__c'].value_counts()"
      ],
      "execution_count": null,
      "outputs": [
        {
          "output_type": "execute_result",
          "data": {
            "text/plain": [
              "QuinStreet - C                            1178572\n",
              "Loanry - C                                 726830\n",
              "Lending Tree - C                           432451\n",
              "Monevo - C                                 196102\n",
              "LoanCall.com - C                           112520\n",
              "                                           ...   \n",
              "Best Company Reviews - B                        1\n",
              "CF Capital Group                                1\n",
              "Strategic Voyages Business Consultants          1\n",
              "US Funding Service                              1\n",
              "SCF Funding                                     1\n",
              "Name: Affiliate_Name__c, Length: 560, dtype: int64"
            ]
          },
          "metadata": {},
          "execution_count": 14
        }
      ]
    },
    {
      "cell_type": "code",
      "metadata": {
        "id": "26WwrifU5ZTl",
        "colab": {
          "base_uri": "https://localhost:8080/"
        },
        "outputId": "5bdb27ad-7e24-42cf-ae47-9003f84974a6"
      },
      "source": [
        "data_clean.columns"
      ],
      "execution_count": null,
      "outputs": [
        {
          "output_type": "execute_result",
          "data": {
            "text/plain": [
              "Index(['Internal_Score__c', 'AnnualRevenue', 'Business_History_Months__c',\n",
              "       'Business_Monthly_Revenue__c', 'Business_Name__c', 'Business_State__c',\n",
              "       'Campaign__c', 'CampaignId__c', 'CreatedDate', 'Date_of_Birth_DOB__c',\n",
              "       'Dis_Other_Messaging__c', 'Email', 'HasOptedOutOfEmail', 'FirstName',\n",
              "       'LastModifiedById', 'LastName', 'Id', 'Loan_Status__c', 'MobilePhone',\n",
              "       'Monthly_Income__c', 'Phone', 'Requested_Loan_Amount__c', 'State__c',\n",
              "       'Status', 'Affiliate_ID_Number__c', 'Affiliate_Name__c',\n",
              "       'Is_Homeowner__c', 'Lead_Creator__c', 'Original_Loan_Agent__c',\n",
              "       'Loan_Amount__c', 'IsConverted', 'DoNotCall', 'Highest_Step__c',\n",
              "       'Loan_Partner__c', 'Mailer_Approved__c', 'Referral__c', 'State_Code'],\n",
              "      dtype='object')"
            ]
          },
          "metadata": {},
          "execution_count": 37
        }
      ]
    },
    {
      "cell_type": "code",
      "metadata": {
        "colab": {
          "base_uri": "https://localhost:8080/",
          "height": 165
        },
        "id": "FALUoi9YgbQj",
        "outputId": "89723e09-30f5-49fb-9989-c85384b008f1"
      },
      "source": [
        "# small size file for SBL\n",
        "data_homeowner = data_clean.drop(['AnnualRevenue', 'Business_History_Months__c','Dis_Other_Messaging__c','LastModifiedById','Lead_Creator__c',\n",
        "       'Original_Loan_Agent__c','Business_Monthly_Revenue__c', 'Business_Name__c', 'Business_State__c','Highest_Step__c',\n",
        "       'Loan_Partner__c', 'Mailer_Approved__c', 'Referral__c'], axis=1)\n",
        "data_homeowner.head(2)"
      ],
      "execution_count": null,
      "outputs": [
        {
          "output_type": "execute_result",
          "data": {
            "text/html": [
              "<div>\n",
              "<style scoped>\n",
              "    .dataframe tbody tr th:only-of-type {\n",
              "        vertical-align: middle;\n",
              "    }\n",
              "\n",
              "    .dataframe tbody tr th {\n",
              "        vertical-align: top;\n",
              "    }\n",
              "\n",
              "    .dataframe thead th {\n",
              "        text-align: right;\n",
              "    }\n",
              "</style>\n",
              "<table border=\"1\" class=\"dataframe\">\n",
              "  <thead>\n",
              "    <tr style=\"text-align: right;\">\n",
              "      <th></th>\n",
              "      <th>Internal_Score__c</th>\n",
              "      <th>Campaign__c</th>\n",
              "      <th>CampaignId__c</th>\n",
              "      <th>CreatedDate</th>\n",
              "      <th>Date_of_Birth_DOB__c</th>\n",
              "      <th>Email</th>\n",
              "      <th>HasOptedOutOfEmail</th>\n",
              "      <th>FirstName</th>\n",
              "      <th>LastName</th>\n",
              "      <th>Id</th>\n",
              "      <th>Loan_Status__c</th>\n",
              "      <th>MobilePhone</th>\n",
              "      <th>Monthly_Income__c</th>\n",
              "      <th>Phone</th>\n",
              "      <th>Requested_Loan_Amount__c</th>\n",
              "      <th>State__c</th>\n",
              "      <th>Status</th>\n",
              "      <th>Affiliate_ID_Number__c</th>\n",
              "      <th>Affiliate_Name__c</th>\n",
              "      <th>Is_Homeowner__c</th>\n",
              "      <th>Loan_Amount__c</th>\n",
              "      <th>IsConverted</th>\n",
              "      <th>DoNotCall</th>\n",
              "      <th>State_Code</th>\n",
              "    </tr>\n",
              "  </thead>\n",
              "  <tbody>\n",
              "    <tr>\n",
              "      <th>0</th>\n",
              "      <td>410.0</td>\n",
              "      <td>7011U000000hVf2QAE</td>\n",
              "      <td>3706.0</td>\n",
              "      <td>5/24/2021 11:56:19 AM</td>\n",
              "      <td>8/29/1997 12:00:00 AM</td>\n",
              "      <td>maldonadoiris035@gmail.com</td>\n",
              "      <td>False</td>\n",
              "      <td>JEREMIAH</td>\n",
              "      <td>LAMBERT</td>\n",
              "      <td>00Q1U00000TMMhKUAX</td>\n",
              "      <td>Pending Denial</td>\n",
              "      <td>6063594267</td>\n",
              "      <td>0</td>\n",
              "      <td>8592673208</td>\n",
              "      <td>2000.0</td>\n",
              "      <td>KY</td>\n",
              "      <td>Rejected Lead</td>\n",
              "      <td>5182</td>\n",
              "      <td>Loanry - C</td>\n",
              "      <td>False</td>\n",
              "      <td>0</td>\n",
              "      <td>False</td>\n",
              "      <td>False</td>\n",
              "      <td>NaN</td>\n",
              "    </tr>\n",
              "    <tr>\n",
              "      <th>1</th>\n",
              "      <td>638.0</td>\n",
              "      <td>7011U000000hSl2QAE</td>\n",
              "      <td>2716.0</td>\n",
              "      <td>5/24/2021 11:34:01 AM</td>\n",
              "      <td>11/26/1976 12:00:00 AM</td>\n",
              "      <td>debose34@gmail.com</td>\n",
              "      <td>False</td>\n",
              "      <td>STEVE</td>\n",
              "      <td>DEBOSE</td>\n",
              "      <td>00Q1U00000TMMhMUAX</td>\n",
              "      <td>Pending Denial</td>\n",
              "      <td>4073145448</td>\n",
              "      <td>4000</td>\n",
              "      <td>4073145448</td>\n",
              "      <td>2500.0</td>\n",
              "      <td>FL</td>\n",
              "      <td>Rejected Lead</td>\n",
              "      <td>4947</td>\n",
              "      <td>Monevo - C</td>\n",
              "      <td>False</td>\n",
              "      <td>0</td>\n",
              "      <td>False</td>\n",
              "      <td>False</td>\n",
              "      <td>NaN</td>\n",
              "    </tr>\n",
              "  </tbody>\n",
              "</table>\n",
              "</div>"
            ],
            "text/plain": [
              "   Internal_Score__c         Campaign__c  ...  DoNotCall State_Code\n",
              "0              410.0  7011U000000hVf2QAE  ...      False        NaN\n",
              "1              638.0  7011U000000hSl2QAE  ...      False        NaN\n",
              "\n",
              "[2 rows x 24 columns]"
            ]
          },
          "metadata": {},
          "execution_count": 38
        }
      ]
    },
    {
      "cell_type": "code",
      "metadata": {
        "colab": {
          "base_uri": "https://localhost:8080/",
          "height": 309
        },
        "id": "oHxcNP8-Gq3j",
        "outputId": "833cb2d8-e60c-4b8a-89ce-2e3484a8335b"
      },
      "source": [
        "true_false = {True: 1, False: 0}\n",
        "data_homeowner['Homeowner'] = data_homeowner['Is_Homeowner__c'].map(true_false)\n",
        "data_homeowner.head()"
      ],
      "execution_count": null,
      "outputs": [
        {
          "output_type": "execute_result",
          "data": {
            "text/html": [
              "<div>\n",
              "<style scoped>\n",
              "    .dataframe tbody tr th:only-of-type {\n",
              "        vertical-align: middle;\n",
              "    }\n",
              "\n",
              "    .dataframe tbody tr th {\n",
              "        vertical-align: top;\n",
              "    }\n",
              "\n",
              "    .dataframe thead th {\n",
              "        text-align: right;\n",
              "    }\n",
              "</style>\n",
              "<table border=\"1\" class=\"dataframe\">\n",
              "  <thead>\n",
              "    <tr style=\"text-align: right;\">\n",
              "      <th></th>\n",
              "      <th>Internal_Score__c</th>\n",
              "      <th>Campaign__c</th>\n",
              "      <th>CampaignId__c</th>\n",
              "      <th>CreatedDate</th>\n",
              "      <th>Date_of_Birth_DOB__c</th>\n",
              "      <th>Email</th>\n",
              "      <th>HasOptedOutOfEmail</th>\n",
              "      <th>FirstName</th>\n",
              "      <th>LastName</th>\n",
              "      <th>Id</th>\n",
              "      <th>Loan_Status__c</th>\n",
              "      <th>MobilePhone</th>\n",
              "      <th>Monthly_Income__c</th>\n",
              "      <th>Phone</th>\n",
              "      <th>Requested_Loan_Amount__c</th>\n",
              "      <th>State__c</th>\n",
              "      <th>Status</th>\n",
              "      <th>Affiliate_ID_Number__c</th>\n",
              "      <th>Affiliate_Name__c</th>\n",
              "      <th>Is_Homeowner__c</th>\n",
              "      <th>Loan_Amount__c</th>\n",
              "      <th>IsConverted</th>\n",
              "      <th>DoNotCall</th>\n",
              "      <th>State_Code</th>\n",
              "      <th>Homeowner</th>\n",
              "    </tr>\n",
              "  </thead>\n",
              "  <tbody>\n",
              "    <tr>\n",
              "      <th>0</th>\n",
              "      <td>410.0</td>\n",
              "      <td>7011U000000hVf2QAE</td>\n",
              "      <td>3706.0</td>\n",
              "      <td>5/24/2021 11:56:19 AM</td>\n",
              "      <td>8/29/1997 12:00:00 AM</td>\n",
              "      <td>maldonadoiris035@gmail.com</td>\n",
              "      <td>False</td>\n",
              "      <td>JEREMIAH</td>\n",
              "      <td>LAMBERT</td>\n",
              "      <td>00Q1U00000TMMhKUAX</td>\n",
              "      <td>Pending Denial</td>\n",
              "      <td>6063594267</td>\n",
              "      <td>0</td>\n",
              "      <td>8592673208</td>\n",
              "      <td>2000.0</td>\n",
              "      <td>KY</td>\n",
              "      <td>Rejected Lead</td>\n",
              "      <td>5182</td>\n",
              "      <td>Loanry - C</td>\n",
              "      <td>False</td>\n",
              "      <td>0</td>\n",
              "      <td>False</td>\n",
              "      <td>False</td>\n",
              "      <td>NaN</td>\n",
              "      <td>0</td>\n",
              "    </tr>\n",
              "    <tr>\n",
              "      <th>1</th>\n",
              "      <td>638.0</td>\n",
              "      <td>7011U000000hSl2QAE</td>\n",
              "      <td>2716.0</td>\n",
              "      <td>5/24/2021 11:34:01 AM</td>\n",
              "      <td>11/26/1976 12:00:00 AM</td>\n",
              "      <td>debose34@gmail.com</td>\n",
              "      <td>False</td>\n",
              "      <td>STEVE</td>\n",
              "      <td>DEBOSE</td>\n",
              "      <td>00Q1U00000TMMhMUAX</td>\n",
              "      <td>Pending Denial</td>\n",
              "      <td>4073145448</td>\n",
              "      <td>4000</td>\n",
              "      <td>4073145448</td>\n",
              "      <td>2500.0</td>\n",
              "      <td>FL</td>\n",
              "      <td>Rejected Lead</td>\n",
              "      <td>4947</td>\n",
              "      <td>Monevo - C</td>\n",
              "      <td>False</td>\n",
              "      <td>0</td>\n",
              "      <td>False</td>\n",
              "      <td>False</td>\n",
              "      <td>NaN</td>\n",
              "      <td>0</td>\n",
              "    </tr>\n",
              "    <tr>\n",
              "      <th>2</th>\n",
              "      <td>NaN</td>\n",
              "      <td>7011U000000hSsaQAE</td>\n",
              "      <td>3184.0</td>\n",
              "      <td>5/24/2021 11:34:12 AM</td>\n",
              "      <td>8/4/1961 12:00:00 AM</td>\n",
              "      <td>mwilliams0804@gmail.com</td>\n",
              "      <td>False</td>\n",
              "      <td>MARSHA</td>\n",
              "      <td>WILLIAMS</td>\n",
              "      <td>00Q1U00000TMMhRUAX</td>\n",
              "      <td>Pending Approval</td>\n",
              "      <td>3027503090</td>\n",
              "      <td>10800</td>\n",
              "      <td>3027503090</td>\n",
              "      <td>1000.0</td>\n",
              "      <td>DE</td>\n",
              "      <td>Rejected Lead</td>\n",
              "      <td>4685</td>\n",
              "      <td>QuinStreet - C</td>\n",
              "      <td>True</td>\n",
              "      <td>0</td>\n",
              "      <td>False</td>\n",
              "      <td>False</td>\n",
              "      <td>NaN</td>\n",
              "      <td>1</td>\n",
              "    </tr>\n",
              "    <tr>\n",
              "      <th>3</th>\n",
              "      <td>625.0</td>\n",
              "      <td>7011U000000hVf2QAE</td>\n",
              "      <td>3706.0</td>\n",
              "      <td>5/24/2021 11:34:51 AM</td>\n",
              "      <td>11/11/1960 12:00:00 AM</td>\n",
              "      <td>butchwalkaboutschosser@gmail.com</td>\n",
              "      <td>False</td>\n",
              "      <td>WILLIAM</td>\n",
              "      <td>SCHOSSR</td>\n",
              "      <td>00Q1U00000TMMhSUAX</td>\n",
              "      <td>Pending Denial</td>\n",
              "      <td>9282990559</td>\n",
              "      <td>0</td>\n",
              "      <td>9282990559</td>\n",
              "      <td>2000.0</td>\n",
              "      <td>AZ</td>\n",
              "      <td>Rejected Lead</td>\n",
              "      <td>5182</td>\n",
              "      <td>Loanry - C</td>\n",
              "      <td>False</td>\n",
              "      <td>0</td>\n",
              "      <td>False</td>\n",
              "      <td>False</td>\n",
              "      <td>NaN</td>\n",
              "      <td>0</td>\n",
              "    </tr>\n",
              "    <tr>\n",
              "      <th>4</th>\n",
              "      <td>643.0</td>\n",
              "      <td>7011U000000hSsaQAE</td>\n",
              "      <td>3184.0</td>\n",
              "      <td>5/24/2021 11:34:15 AM</td>\n",
              "      <td>9/15/1997 12:00:00 AM</td>\n",
              "      <td>jvalle0915@icloud.com</td>\n",
              "      <td>False</td>\n",
              "      <td>JOSEPH</td>\n",
              "      <td>VALLE</td>\n",
              "      <td>00Q1U00000TMMhWUAX</td>\n",
              "      <td>Pending Denial</td>\n",
              "      <td>6155468908</td>\n",
              "      <td>3000</td>\n",
              "      <td>6155468908</td>\n",
              "      <td>1000.0</td>\n",
              "      <td>TN</td>\n",
              "      <td>Rejected Lead</td>\n",
              "      <td>4685</td>\n",
              "      <td>QuinStreet - C</td>\n",
              "      <td>False</td>\n",
              "      <td>0</td>\n",
              "      <td>False</td>\n",
              "      <td>False</td>\n",
              "      <td>NaN</td>\n",
              "      <td>0</td>\n",
              "    </tr>\n",
              "  </tbody>\n",
              "</table>\n",
              "</div>"
            ],
            "text/plain": [
              "   Internal_Score__c         Campaign__c  ...  State_Code Homeowner\n",
              "0              410.0  7011U000000hVf2QAE  ...         NaN         0\n",
              "1              638.0  7011U000000hSl2QAE  ...         NaN         0\n",
              "2                NaN  7011U000000hSsaQAE  ...         NaN         1\n",
              "3              625.0  7011U000000hVf2QAE  ...         NaN         0\n",
              "4              643.0  7011U000000hSsaQAE  ...         NaN         0\n",
              "\n",
              "[5 rows x 25 columns]"
            ]
          },
          "metadata": {},
          "execution_count": 40
        }
      ]
    },
    {
      "cell_type": "code",
      "metadata": {
        "id": "wICLywRYHSOu"
      },
      "source": [
        "#import numpy as np\n",
        "#data_homeowner['Homeowner'] = np.where(data_homeowner['Homeowner'].isnull(),0,1)\n",
        "#data_homeowner.head(30)"
      ],
      "execution_count": null,
      "outputs": []
    },
    {
      "cell_type": "code",
      "metadata": {
        "id": "XkmfcUE9oVNK"
      },
      "source": [
        "import numpy as np\n",
        "import pandas as pd\n",
        "import matplotlib.pyplot as plt\n",
        "import sklearn\n",
        "\n",
        "from pylab import rcParams\n",
        "\n",
        "from sklearn.linear_model import LinearRegression\n",
        "from sklearn.preprocessing import scale\n",
        "\n",
        "%matplotlib inline\n",
        "rcParams['figure.figsize']=5,4\n",
        "\n",
        "import seaborn as sb\n",
        "sb.set_style('whitegrid')\n",
        "from collections import Counter"
      ],
      "execution_count": null,
      "outputs": []
    },
    {
      "cell_type": "code",
      "metadata": {
        "colab": {
          "base_uri": "https://localhost:8080/",
          "height": 400
        },
        "id": "D2Mi4w2nJsZQ",
        "outputId": "42364878-8ee6-482a-bf69-26b4df37fd19"
      },
      "source": [
        "ax1 = data_homeowner.groupby('Homeowner').count()['Status'].plot(kind = 'bar', color='lightblue', grid=True, figsize=(6,6), title='Homeowner count')\n",
        "ax1.set_xlabel('Homeowner')\n",
        "ax1.set_ylabel('Count')\n",
        "plt.show()"
      ],
      "execution_count": null,
      "outputs": [
        {
          "output_type": "display_data",
          "data": {
            "image/png": "[encoded data removed]",
            "text/plain": [
              "<Figure size 432x432 with 1 Axes>"
            ]
          },
          "metadata": {}
        }
      ]
    },
    {
      "cell_type": "code",
      "metadata": {
        "id": "DGZhHhoQHEBt"
      },
      "source": [
        "data_clean['CreatedDate'] = pd.to_datetime(data_clean['CreatedDate'])"
      ],
      "execution_count": null,
      "outputs": []
    },
    {
      "cell_type": "code",
      "metadata": {
        "colab": {
          "base_uri": "https://localhost:8080/"
        },
        "id": "Xp8Mi_FgGmi6",
        "outputId": "5dbf81bc-7724-4a6a-edb9-57f0c6505c97"
      },
      "source": [
        "# First day of CreatedDate in df\n",
        "data_clean['CreatedDate'].min()"
      ],
      "execution_count": null,
      "outputs": [
        {
          "output_type": "execute_result",
          "data": {
            "text/plain": [
              "Timestamp('2021-02-24 09:44:31')"
            ]
          },
          "metadata": {},
          "execution_count": 53
        }
      ]
    },
    {
      "cell_type": "code",
      "metadata": {
        "colab": {
          "base_uri": "https://localhost:8080/"
        },
        "id": "a-uE30ktGyyI",
        "outputId": "ac48349d-f93e-4700-d635-5d68a975b149"
      },
      "source": [
        "# Last day of CreatedDate in df\n",
        "data_clean['CreatedDate'].max()"
      ],
      "execution_count": null,
      "outputs": [
        {
          "output_type": "execute_result",
          "data": {
            "text/plain": [
              "Timestamp('2021-10-22 10:05:57')"
            ]
          },
          "metadata": {},
          "execution_count": 54
        }
      ]
    },
    {
      "cell_type": "code",
      "metadata": {
        "colab": {
          "base_uri": "https://localhost:8080/",
          "height": 165
        },
        "id": "m12ptHE19ddO",
        "outputId": "3826f5ce-663c-4f74-f2a4-a92fde2ef151"
      },
      "source": [
        "# list of records upto 10/2021\n",
        "df_all_2242021_1012021 = data_clean.loc[(data_clean['CreatedDate'] >= '2/24/2021') & (data_clean['CreatedDate'] <= '10/22/2021')]\n",
        "df_all_2242021_1012021.tail(2)"
      ],
      "execution_count": null,
      "outputs": [
        {
          "output_type": "execute_result",
          "data": {
            "text/html": [
              "<div>\n",
              "<style scoped>\n",
              "    .dataframe tbody tr th:only-of-type {\n",
              "        vertical-align: middle;\n",
              "    }\n",
              "\n",
              "    .dataframe tbody tr th {\n",
              "        vertical-align: top;\n",
              "    }\n",
              "\n",
              "    .dataframe thead th {\n",
              "        text-align: right;\n",
              "    }\n",
              "</style>\n",
              "<table border=\"1\" class=\"dataframe\">\n",
              "  <thead>\n",
              "    <tr style=\"text-align: right;\">\n",
              "      <th></th>\n",
              "      <th>Internal_Score__c</th>\n",
              "      <th>AnnualRevenue</th>\n",
              "      <th>Business_History_Months__c</th>\n",
              "      <th>Business_Monthly_Revenue__c</th>\n",
              "      <th>Business_Name__c</th>\n",
              "      <th>Business_State__c</th>\n",
              "      <th>Campaign__c</th>\n",
              "      <th>CampaignId__c</th>\n",
              "      <th>CreatedDate</th>\n",
              "      <th>Date_of_Birth_DOB__c</th>\n",
              "      <th>Dis_Other_Messaging__c</th>\n",
              "      <th>Email</th>\n",
              "      <th>HasOptedOutOfEmail</th>\n",
              "      <th>FirstName</th>\n",
              "      <th>LastModifiedById</th>\n",
              "      <th>LastName</th>\n",
              "      <th>Id</th>\n",
              "      <th>Loan_Status__c</th>\n",
              "      <th>MobilePhone</th>\n",
              "      <th>Monthly_Income__c</th>\n",
              "      <th>Phone</th>\n",
              "      <th>Requested_Loan_Amount__c</th>\n",
              "      <th>State__c</th>\n",
              "      <th>Status</th>\n",
              "      <th>Affiliate_ID_Number__c</th>\n",
              "      <th>Affiliate_Name__c</th>\n",
              "      <th>Is_Homeowner__c</th>\n",
              "      <th>Lead_Creator__c</th>\n",
              "      <th>Original_Loan_Agent__c</th>\n",
              "      <th>Loan_Amount__c</th>\n",
              "      <th>IsConverted</th>\n",
              "      <th>DoNotCall</th>\n",
              "      <th>Highest_Step__c</th>\n",
              "      <th>Loan_Partner__c</th>\n",
              "      <th>Mailer_Approved__c</th>\n",
              "      <th>Referral__c</th>\n",
              "      <th>State_Code</th>\n",
              "      <th>Homeowner</th>\n",
              "    </tr>\n",
              "  </thead>\n",
              "  <tbody>\n",
              "    <tr>\n",
              "      <th>3072735</th>\n",
              "      <td>720.0</td>\n",
              "      <td>NaN</td>\n",
              "      <td>NaN</td>\n",
              "      <td>NaN</td>\n",
              "      <td>NaN</td>\n",
              "      <td>NaN</td>\n",
              "      <td>7011U000000hSsaQAE</td>\n",
              "      <td>3184.0</td>\n",
              "      <td>2021-10-21 18:43:08</td>\n",
              "      <td>5/1/1966 12:00:00 AM</td>\n",
              "      <td>False</td>\n",
              "      <td>vgnade@yahoo.com</td>\n",
              "      <td>False</td>\n",
              "      <td>VERONICA</td>\n",
              "      <td>0051U000006PGsoQAG</td>\n",
              "      <td>GNADE</td>\n",
              "      <td>00Q4X00001ray4uUAA</td>\n",
              "      <td>Pending Approval</td>\n",
              "      <td>6.01215e+09</td>\n",
              "      <td>5001</td>\n",
              "      <td>6.01215e+09</td>\n",
              "      <td>1000.0</td>\n",
              "      <td>MS</td>\n",
              "      <td>New</td>\n",
              "      <td>4685</td>\n",
              "      <td>QuinStreet - C</td>\n",
              "      <td>True</td>\n",
              "      <td>NaN</td>\n",
              "      <td>NaN</td>\n",
              "      <td>1100</td>\n",
              "      <td>False</td>\n",
              "      <td>False</td>\n",
              "      <td>NaN</td>\n",
              "      <td>CC Bank</td>\n",
              "      <td>False</td>\n",
              "      <td>NaN</td>\n",
              "      <td>NaN</td>\n",
              "      <td>1</td>\n",
              "    </tr>\n",
              "    <tr>\n",
              "      <th>3072736</th>\n",
              "      <td>650.0</td>\n",
              "      <td>NaN</td>\n",
              "      <td>NaN</td>\n",
              "      <td>NaN</td>\n",
              "      <td>NaN</td>\n",
              "      <td>NaN</td>\n",
              "      <td>7011U000000hSb0QAE</td>\n",
              "      <td>2094.0</td>\n",
              "      <td>2021-10-21 18:56:52</td>\n",
              "      <td>4/28/1988 12:00:00 AM</td>\n",
              "      <td>False</td>\n",
              "      <td>elisena62@gmail.com</td>\n",
              "      <td>False</td>\n",
              "      <td>ELISENA</td>\n",
              "      <td>0051U000006PTLwQAO</td>\n",
              "      <td>CERNE</td>\n",
              "      <td>00Q4X00001rayCpUAI</td>\n",
              "      <td>Pending Denial</td>\n",
              "      <td>NaN</td>\n",
              "      <td>5000</td>\n",
              "      <td>5.61425e+09</td>\n",
              "      <td>1000.0</td>\n",
              "      <td>FL</td>\n",
              "      <td>Rejected Lead</td>\n",
              "      <td>4014</td>\n",
              "      <td>Lending Tree - C</td>\n",
              "      <td>False</td>\n",
              "      <td>NaN</td>\n",
              "      <td>NaN</td>\n",
              "      <td>0</td>\n",
              "      <td>False</td>\n",
              "      <td>False</td>\n",
              "      <td>NaN</td>\n",
              "      <td>NaN</td>\n",
              "      <td>False</td>\n",
              "      <td>NaN</td>\n",
              "      <td>NaN</td>\n",
              "      <td>0</td>\n",
              "    </tr>\n",
              "  </tbody>\n",
              "</table>\n",
              "</div>"
            ],
            "text/plain": [
              "         Internal_Score__c  AnnualRevenue  ...  State_Code  Homeowner\n",
              "3072735              720.0            NaN  ...         NaN          1\n",
              "3072736              650.0            NaN  ...         NaN          0\n",
              "\n",
              "[2 rows x 38 columns]"
            ]
          },
          "metadata": {},
          "execution_count": 55
        }
      ]
    },
    {
      "cell_type": "code",
      "metadata": {
        "colab": {
          "base_uri": "https://localhost:8080/"
        },
        "id": "Ob2lOU429qlX",
        "outputId": "c6ec23a3-951c-4806-d58c-bd7cb534a8c3"
      },
      "source": [
        "df_all_2242021_1012021.shape"
      ],
      "execution_count": null,
      "outputs": [
        {
          "output_type": "execute_result",
          "data": {
            "text/plain": [
              "(3066133, 38)"
            ]
          },
          "metadata": {},
          "execution_count": 56
        }
      ]
    },
    {
      "cell_type": "code",
      "metadata": {
        "colab": {
          "base_uri": "https://localhost:8080/",
          "height": 165
        },
        "id": "CQq7DICLqFSo",
        "outputId": "b2b7a5ef-d378-4148-b2d7-276cb6ba920f"
      },
      "source": [
        "# Select only Home owner list\n",
        "df_homeowner_list = data_homeowner[data_homeowner.Is_Homeowner__c == True]\n",
        "df_homeowner_list.tail(2)"
      ],
      "execution_count": null,
      "outputs": [
        {
          "output_type": "execute_result",
          "data": {
            "text/html": [
              "<div>\n",
              "<style scoped>\n",
              "    .dataframe tbody tr th:only-of-type {\n",
              "        vertical-align: middle;\n",
              "    }\n",
              "\n",
              "    .dataframe tbody tr th {\n",
              "        vertical-align: top;\n",
              "    }\n",
              "\n",
              "    .dataframe thead th {\n",
              "        text-align: right;\n",
              "    }\n",
              "</style>\n",
              "<table border=\"1\" class=\"dataframe\">\n",
              "  <thead>\n",
              "    <tr style=\"text-align: right;\">\n",
              "      <th></th>\n",
              "      <th>Internal_Score__c</th>\n",
              "      <th>Campaign__c</th>\n",
              "      <th>CampaignId__c</th>\n",
              "      <th>CreatedDate</th>\n",
              "      <th>Date_of_Birth_DOB__c</th>\n",
              "      <th>Email</th>\n",
              "      <th>HasOptedOutOfEmail</th>\n",
              "      <th>FirstName</th>\n",
              "      <th>LastName</th>\n",
              "      <th>Id</th>\n",
              "      <th>Loan_Status__c</th>\n",
              "      <th>MobilePhone</th>\n",
              "      <th>Monthly_Income__c</th>\n",
              "      <th>Phone</th>\n",
              "      <th>Requested_Loan_Amount__c</th>\n",
              "      <th>State__c</th>\n",
              "      <th>Status</th>\n",
              "      <th>Affiliate_ID_Number__c</th>\n",
              "      <th>Affiliate_Name__c</th>\n",
              "      <th>Is_Homeowner__c</th>\n",
              "      <th>Loan_Amount__c</th>\n",
              "      <th>IsConverted</th>\n",
              "      <th>DoNotCall</th>\n",
              "      <th>State_Code</th>\n",
              "      <th>Homeowner</th>\n",
              "    </tr>\n",
              "  </thead>\n",
              "  <tbody>\n",
              "    <tr>\n",
              "      <th>3072720</th>\n",
              "      <td>NaN</td>\n",
              "      <td>7011U000000hSsZQAU</td>\n",
              "      <td>3183.0</td>\n",
              "      <td>10/21/2021 6:56:18 PM</td>\n",
              "      <td>5/7/1992 12:00:00 AM</td>\n",
              "      <td>mrbrownboy1992@gmail.com</td>\n",
              "      <td>False</td>\n",
              "      <td>BRANDON</td>\n",
              "      <td>BROWN</td>\n",
              "      <td>00Q4X00001ray1sUAA</td>\n",
              "      <td>Pending Approval</td>\n",
              "      <td>9.56821e+09</td>\n",
              "      <td>4000</td>\n",
              "      <td>9.56821e+09</td>\n",
              "      <td>1000.0</td>\n",
              "      <td>TX</td>\n",
              "      <td>Rejected Lead</td>\n",
              "      <td>4685</td>\n",
              "      <td>QuinStreet - C</td>\n",
              "      <td>True</td>\n",
              "      <td>0</td>\n",
              "      <td>False</td>\n",
              "      <td>False</td>\n",
              "      <td>NaN</td>\n",
              "      <td>1</td>\n",
              "    </tr>\n",
              "    <tr>\n",
              "      <th>3072735</th>\n",
              "      <td>720.0</td>\n",
              "      <td>7011U000000hSsaQAE</td>\n",
              "      <td>3184.0</td>\n",
              "      <td>10/21/2021 6:43:08 PM</td>\n",
              "      <td>5/1/1966 12:00:00 AM</td>\n",
              "      <td>vgnade@yahoo.com</td>\n",
              "      <td>False</td>\n",
              "      <td>VERONICA</td>\n",
              "      <td>GNADE</td>\n",
              "      <td>00Q4X00001ray4uUAA</td>\n",
              "      <td>Pending Approval</td>\n",
              "      <td>6.01215e+09</td>\n",
              "      <td>5001</td>\n",
              "      <td>6.01215e+09</td>\n",
              "      <td>1000.0</td>\n",
              "      <td>MS</td>\n",
              "      <td>New</td>\n",
              "      <td>4685</td>\n",
              "      <td>QuinStreet - C</td>\n",
              "      <td>True</td>\n",
              "      <td>1100</td>\n",
              "      <td>False</td>\n",
              "      <td>False</td>\n",
              "      <td>NaN</td>\n",
              "      <td>1</td>\n",
              "    </tr>\n",
              "  </tbody>\n",
              "</table>\n",
              "</div>"
            ],
            "text/plain": [
              "         Internal_Score__c         Campaign__c  ...  State_Code Homeowner\n",
              "3072720                NaN  7011U000000hSsZQAU  ...         NaN         1\n",
              "3072735              720.0  7011U000000hSsaQAE  ...         NaN         1\n",
              "\n",
              "[2 rows x 25 columns]"
            ]
          },
          "metadata": {},
          "execution_count": 57
        }
      ]
    },
    {
      "cell_type": "code",
      "metadata": {
        "colab": {
          "base_uri": "https://localhost:8080/"
        },
        "id": "0zKjZFkCqFMi",
        "outputId": "c0b3149a-1896-438a-f6a9-f1123ac33832"
      },
      "source": [
        "df_homeowner_list.shape"
      ],
      "execution_count": null,
      "outputs": [
        {
          "output_type": "execute_result",
          "data": {
            "text/plain": [
              "(443393, 25)"
            ]
          },
          "metadata": {},
          "execution_count": 58
        }
      ]
    },
    {
      "cell_type": "code",
      "metadata": {
        "id": "l8QhDLVhGm4h",
        "colab": {
          "base_uri": "https://localhost:8080/",
          "height": 182
        },
        "outputId": "7acbcde6-6936-4412-db27-52eb7f47a03f"
      },
      "source": [
        "# HOMEOWNER IN CA\n",
        "df_homeowner_list_ca = df_homeowner_list[df_homeowner_list.State__c == 'CA']\n",
        "df_homeowner_list_ca.head(2)"
      ],
      "execution_count": null,
      "outputs": [
        {
          "output_type": "execute_result",
          "data": {
            "text/html": [
              "<div>\n",
              "<style scoped>\n",
              "    .dataframe tbody tr th:only-of-type {\n",
              "        vertical-align: middle;\n",
              "    }\n",
              "\n",
              "    .dataframe tbody tr th {\n",
              "        vertical-align: top;\n",
              "    }\n",
              "\n",
              "    .dataframe thead th {\n",
              "        text-align: right;\n",
              "    }\n",
              "</style>\n",
              "<table border=\"1\" class=\"dataframe\">\n",
              "  <thead>\n",
              "    <tr style=\"text-align: right;\">\n",
              "      <th></th>\n",
              "      <th>Internal_Score__c</th>\n",
              "      <th>Campaign__c</th>\n",
              "      <th>CampaignId__c</th>\n",
              "      <th>CreatedDate</th>\n",
              "      <th>Date_of_Birth_DOB__c</th>\n",
              "      <th>Email</th>\n",
              "      <th>HasOptedOutOfEmail</th>\n",
              "      <th>FirstName</th>\n",
              "      <th>LastName</th>\n",
              "      <th>Id</th>\n",
              "      <th>Loan_Status__c</th>\n",
              "      <th>MobilePhone</th>\n",
              "      <th>Monthly_Income__c</th>\n",
              "      <th>Phone</th>\n",
              "      <th>Requested_Loan_Amount__c</th>\n",
              "      <th>State__c</th>\n",
              "      <th>Status</th>\n",
              "      <th>Affiliate_ID_Number__c</th>\n",
              "      <th>Affiliate_Name__c</th>\n",
              "      <th>Is_Homeowner__c</th>\n",
              "      <th>Loan_Amount__c</th>\n",
              "      <th>IsConverted</th>\n",
              "      <th>DoNotCall</th>\n",
              "      <th>State_Code</th>\n",
              "      <th>Homeowner</th>\n",
              "    </tr>\n",
              "  </thead>\n",
              "  <tbody>\n",
              "    <tr>\n",
              "      <th>229</th>\n",
              "      <td>780.0</td>\n",
              "      <td>7011U000000hSsaQAE</td>\n",
              "      <td>3184.0</td>\n",
              "      <td>5/24/2021 12:47:10 PM</td>\n",
              "      <td>1/28/1973 12:00:00 AM</td>\n",
              "      <td>rebecca_castelo@yahoo.com</td>\n",
              "      <td>False</td>\n",
              "      <td>REBECCA</td>\n",
              "      <td>CASTELO</td>\n",
              "      <td>00Q1U00000TMOaEUAX</td>\n",
              "      <td>Pending Denial</td>\n",
              "      <td>4086440828</td>\n",
              "      <td>2667</td>\n",
              "      <td>4086440828</td>\n",
              "      <td>7000.0</td>\n",
              "      <td>CA</td>\n",
              "      <td>Rejected Lead</td>\n",
              "      <td>4685</td>\n",
              "      <td>QuinStreet - C</td>\n",
              "      <td>True</td>\n",
              "      <td>0</td>\n",
              "      <td>False</td>\n",
              "      <td>False</td>\n",
              "      <td>NaN</td>\n",
              "      <td>1</td>\n",
              "    </tr>\n",
              "    <tr>\n",
              "      <th>1225</th>\n",
              "      <td>853.0</td>\n",
              "      <td>7011U000000hSb0QAE</td>\n",
              "      <td>2094.0</td>\n",
              "      <td>5/27/2021 10:18:54 AM</td>\n",
              "      <td>3/20/1985 12:00:00 AM</td>\n",
              "      <td>tinango85@yahoo.com</td>\n",
              "      <td>False</td>\n",
              "      <td>TINA</td>\n",
              "      <td>NGO</td>\n",
              "      <td>00Q1U00000TNFKAUA5</td>\n",
              "      <td>Denied</td>\n",
              "      <td>NaN</td>\n",
              "      <td>3750</td>\n",
              "      <td>5626078391</td>\n",
              "      <td>9500.0</td>\n",
              "      <td>CA</td>\n",
              "      <td>Called - Left Message</td>\n",
              "      <td>4014</td>\n",
              "      <td>Lending Tree - C</td>\n",
              "      <td>True</td>\n",
              "      <td>8287</td>\n",
              "      <td>False</td>\n",
              "      <td>False</td>\n",
              "      <td>NaN</td>\n",
              "      <td>1</td>\n",
              "    </tr>\n",
              "  </tbody>\n",
              "</table>\n",
              "</div>"
            ],
            "text/plain": [
              "      Internal_Score__c         Campaign__c  ...  State_Code Homeowner\n",
              "229               780.0  7011U000000hSsaQAE  ...         NaN         1\n",
              "1225              853.0  7011U000000hSb0QAE  ...         NaN         1\n",
              "\n",
              "[2 rows x 25 columns]"
            ]
          },
          "metadata": {},
          "execution_count": 60
        }
      ]
    },
    {
      "cell_type": "code",
      "metadata": {
        "colab": {
          "base_uri": "https://localhost:8080/"
        },
        "id": "7bd8x8-jqw73",
        "outputId": "cc9a05b2-8ac8-4875-9021-61a3d44f1523"
      },
      "source": [
        "df_homeowner_list_ca.shape"
      ],
      "execution_count": null,
      "outputs": [
        {
          "output_type": "execute_result",
          "data": {
            "text/plain": [
              "(10466, 25)"
            ]
          },
          "metadata": {},
          "execution_count": 61
        }
      ]
    },
    {
      "cell_type": "code",
      "metadata": {
        "id": "35AqRscpqw4Y"
      },
      "source": [
        "df_homeowner_list_ca_optin = df_homeowner_list_ca[df_homeowner_list_ca.HasOptedOutOfEmail == False]"
      ],
      "execution_count": null,
      "outputs": []
    },
    {
      "cell_type": "code",
      "metadata": {
        "id": "32ZFaxcCGm0S",
        "colab": {
          "base_uri": "https://localhost:8080/"
        },
        "outputId": "b84ff63e-7db1-498b-baa3-ff56fbb2d14f"
      },
      "source": [
        "df_homeowner_list_ca_optin.shape"
      ],
      "execution_count": null,
      "outputs": [
        {
          "output_type": "execute_result",
          "data": {
            "text/plain": [
              "(10461, 25)"
            ]
          },
          "metadata": {},
          "execution_count": 63
        }
      ]
    },
    {
      "cell_type": "code",
      "metadata": {
        "id": "q4_luaLCre-0"
      },
      "source": [
        "df_homeowner_list_ca_optin.to_csv('/content/drive/MyDrive/data/2-24-2021-to-8-31-2021-HomeownerOptin.csv')"
      ],
      "execution_count": null,
      "outputs": []
    },
    {
      "cell_type": "code",
      "metadata": {
        "id": "IShOorgpre6o"
      },
      "source": [
        ""
      ],
      "execution_count": null,
      "outputs": []
    },
    {
      "cell_type": "code",
      "metadata": {
        "colab": {
          "base_uri": "https://localhost:8080/",
          "height": 199
        },
        "id": "vTKzJrz3W7GA",
        "outputId": "5f6b9043-bc62-47f5-d156-ff06537777f0"
      },
      "source": [
        "# HOMEOWNER IN FLORIDA\n",
        "df_homeowner_list_fl = df_homeowner_list[df_homeowner_list.State__c == 'FL']\n",
        "df_homeowner_list_fl.head(2)"
      ],
      "execution_count": null,
      "outputs": [
        {
          "output_type": "execute_result",
          "data": {
            "text/html": [
              "<div>\n",
              "<style scoped>\n",
              "    .dataframe tbody tr th:only-of-type {\n",
              "        vertical-align: middle;\n",
              "    }\n",
              "\n",
              "    .dataframe tbody tr th {\n",
              "        vertical-align: top;\n",
              "    }\n",
              "\n",
              "    .dataframe thead th {\n",
              "        text-align: right;\n",
              "    }\n",
              "</style>\n",
              "<table border=\"1\" class=\"dataframe\">\n",
              "  <thead>\n",
              "    <tr style=\"text-align: right;\">\n",
              "      <th></th>\n",
              "      <th>CreatedDate</th>\n",
              "      <th>Email</th>\n",
              "      <th>HasOptedOutOfEmail</th>\n",
              "      <th>FirstName</th>\n",
              "      <th>LastName</th>\n",
              "      <th>Loan_Status__c</th>\n",
              "      <th>MobilePhone</th>\n",
              "      <th>Phone</th>\n",
              "      <th>State__c</th>\n",
              "      <th>Status</th>\n",
              "      <th>Affiliate_Name__c</th>\n",
              "      <th>Is_Homeowner__c</th>\n",
              "      <th>IsConverted</th>\n",
              "      <th>Homeowner</th>\n",
              "    </tr>\n",
              "  </thead>\n",
              "  <tbody>\n",
              "    <tr>\n",
              "      <th>15</th>\n",
              "      <td>5/24/2021 11:34:29 AM</td>\n",
              "      <td>ramdaschandra@hotmail.com</td>\n",
              "      <td>False</td>\n",
              "      <td>RAMDAS</td>\n",
              "      <td>CHANDRA</td>\n",
              "      <td>Denied</td>\n",
              "      <td>NaN</td>\n",
              "      <td>9544480552</td>\n",
              "      <td>FL</td>\n",
              "      <td>Called - Left Message</td>\n",
              "      <td>Lending Tree - C</td>\n",
              "      <td>True</td>\n",
              "      <td>False</td>\n",
              "      <td>1</td>\n",
              "    </tr>\n",
              "    <tr>\n",
              "      <th>58</th>\n",
              "      <td>5/24/2021 12:42:30 PM</td>\n",
              "      <td>sekhmetemi@gmail.com</td>\n",
              "      <td>False</td>\n",
              "      <td>ELLEN</td>\n",
              "      <td>ISABEL</td>\n",
              "      <td>Denied</td>\n",
              "      <td>5612362502</td>\n",
              "      <td>5612362502</td>\n",
              "      <td>FL</td>\n",
              "      <td>Called - Left Message</td>\n",
              "      <td>Loanry - C</td>\n",
              "      <td>True</td>\n",
              "      <td>False</td>\n",
              "      <td>1</td>\n",
              "    </tr>\n",
              "  </tbody>\n",
              "</table>\n",
              "</div>"
            ],
            "text/plain": [
              "              CreatedDate                      Email  ...  IsConverted Homeowner\n",
              "15  5/24/2021 11:34:29 AM  ramdaschandra@hotmail.com  ...        False         1\n",
              "58  5/24/2021 12:42:30 PM       sekhmetemi@gmail.com  ...        False         1\n",
              "\n",
              "[2 rows x 14 columns]"
            ]
          },
          "metadata": {},
          "execution_count": 92
        }
      ]
    },
    {
      "cell_type": "code",
      "metadata": {
        "id": "XPpuJWPMW63B"
      },
      "source": [
        "df_homeowner_list_fl_optin = df_homeowner_list_fl[df_homeowner_list_fl.HasOptedOutOfEmail == False]"
      ],
      "execution_count": null,
      "outputs": []
    },
    {
      "cell_type": "code",
      "metadata": {
        "colab": {
          "base_uri": "https://localhost:8080/"
        },
        "id": "CoBa_snuW6t4",
        "outputId": "b485562a-e060-4f33-8a23-1458c08500ff"
      },
      "source": [
        "df_homeowner_list_fl_optin.shape"
      ],
      "execution_count": null,
      "outputs": [
        {
          "output_type": "execute_result",
          "data": {
            "text/plain": [
              "(43008, 14)"
            ]
          },
          "metadata": {},
          "execution_count": 94
        }
      ]
    },
    {
      "cell_type": "code",
      "metadata": {
        "id": "YCJz-jOtW6mH"
      },
      "source": [
        "# drop and remove duplicate - inplace =True\n",
        "# data.drop_duplicates(inplace=True)\n",
        "import numpy as np\n",
        "# drop duplicate based on Email column\n",
        "df_homeowner_list_fl_optin_nodup = df_homeowner_list_fl_optin.drop_duplicates(subset='Email', keep=\"first\")"
      ],
      "execution_count": null,
      "outputs": []
    },
    {
      "cell_type": "code",
      "metadata": {
        "id": "-DayXQbhre1l",
        "colab": {
          "base_uri": "https://localhost:8080/"
        },
        "outputId": "20200f42-3516-450d-c947-8c38206da9da"
      },
      "source": [
        "df_homeowner_list_fl_optin_nodup.shape"
      ],
      "execution_count": null,
      "outputs": [
        {
          "output_type": "execute_result",
          "data": {
            "text/plain": [
              "(25832, 14)"
            ]
          },
          "metadata": {},
          "execution_count": 102
        }
      ]
    },
    {
      "cell_type": "code",
      "metadata": {
        "id": "-lTaRBd9bLi8"
      },
      "source": [
        "df_homeowner_list_fl_optin_nodup.to_csv('/content/drive/MyDrive/data/2-24-2021-to-8-31-2021-FL-HomeownerOptin.csv', index=False)"
      ],
      "execution_count": null,
      "outputs": []
    },
    {
      "cell_type": "code",
      "metadata": {
        "id": "AwGbh_jZbPPc"
      },
      "source": [
        ""
      ],
      "execution_count": null,
      "outputs": []
    },
    {
      "cell_type": "code",
      "metadata": {
        "id": "HT9f2Ibyak8a"
      },
      "source": [
        "# drop duplicate based on Phone column\n",
        "df_homeowner_list_fl_optin_Phonenodup = df_homeowner_list_fl_optin.drop_duplicates(subset='Phone', keep=\"first\")"
      ],
      "execution_count": null,
      "outputs": []
    },
    {
      "cell_type": "code",
      "metadata": {
        "colab": {
          "base_uri": "https://localhost:8080/"
        },
        "id": "hEyC1BBdaoh2",
        "outputId": "4038996d-63a5-4717-9f0c-5b97636f1f73"
      },
      "source": [
        "df_homeowner_list_fl_optin_Phonenodup.shape"
      ],
      "execution_count": null,
      "outputs": [
        {
          "output_type": "execute_result",
          "data": {
            "text/plain": [
              "(24663, 14)"
            ]
          },
          "metadata": {},
          "execution_count": 100
        }
      ]
    },
    {
      "cell_type": "code",
      "metadata": {
        "colab": {
          "base_uri": "https://localhost:8080/",
          "height": 182
        },
        "id": "x97ecyaN7LpT",
        "outputId": "0812c843-9dd6-4692-8b92-52d54f5d01f0"
      },
      "source": [
        "# Select only Lending Tree list\n",
        "df_one_LT = data_homeowner[data_homeowner.Affiliate_Name__c == 'Lending Tree - C']\n",
        "df_one_LT.head(2)"
      ],
      "execution_count": null,
      "outputs": [
        {
          "output_type": "execute_result",
          "data": {
            "text/html": [
              "<div>\n",
              "<style scoped>\n",
              "    .dataframe tbody tr th:only-of-type {\n",
              "        vertical-align: middle;\n",
              "    }\n",
              "\n",
              "    .dataframe tbody tr th {\n",
              "        vertical-align: top;\n",
              "    }\n",
              "\n",
              "    .dataframe thead th {\n",
              "        text-align: right;\n",
              "    }\n",
              "</style>\n",
              "<table border=\"1\" class=\"dataframe\">\n",
              "  <thead>\n",
              "    <tr style=\"text-align: right;\">\n",
              "      <th></th>\n",
              "      <th>CreatedDate</th>\n",
              "      <th>Email</th>\n",
              "      <th>HasOptedOutOfEmail</th>\n",
              "      <th>FirstName</th>\n",
              "      <th>LastName</th>\n",
              "      <th>Loan_Status__c</th>\n",
              "      <th>MobilePhone</th>\n",
              "      <th>Phone</th>\n",
              "      <th>State__c</th>\n",
              "      <th>Status</th>\n",
              "      <th>Affiliate_Name__c</th>\n",
              "      <th>Is_Homeowner__c</th>\n",
              "      <th>IsConverted</th>\n",
              "    </tr>\n",
              "  </thead>\n",
              "  <tbody>\n",
              "    <tr>\n",
              "      <th>15</th>\n",
              "      <td>5/24/2021 11:34:29 AM</td>\n",
              "      <td>ramdaschandra@hotmail.com</td>\n",
              "      <td>False</td>\n",
              "      <td>RAMDAS</td>\n",
              "      <td>CHANDRA</td>\n",
              "      <td>Denied</td>\n",
              "      <td>NaN</td>\n",
              "      <td>9544480552</td>\n",
              "      <td>FL</td>\n",
              "      <td>Called - Left Message</td>\n",
              "      <td>Lending Tree - C</td>\n",
              "      <td>True</td>\n",
              "      <td>False</td>\n",
              "    </tr>\n",
              "    <tr>\n",
              "      <th>31</th>\n",
              "      <td>5/24/2021 12:41:47 PM</td>\n",
              "      <td>dozzerpopovici48@gmail.com</td>\n",
              "      <td>False</td>\n",
              "      <td>ALIN</td>\n",
              "      <td>POPOVICI</td>\n",
              "      <td>Denied</td>\n",
              "      <td>NaN</td>\n",
              "      <td>8133123640</td>\n",
              "      <td>FL</td>\n",
              "      <td>Rejected Lead</td>\n",
              "      <td>Lending Tree - C</td>\n",
              "      <td>False</td>\n",
              "      <td>False</td>\n",
              "    </tr>\n",
              "  </tbody>\n",
              "</table>\n",
              "</div>"
            ],
            "text/plain": [
              "              CreatedDate  ... IsConverted\n",
              "15  5/24/2021 11:34:29 AM  ...       False\n",
              "31  5/24/2021 12:41:47 PM  ...       False\n",
              "\n",
              "[2 rows x 13 columns]"
            ]
          },
          "metadata": {},
          "execution_count": 55
        }
      ]
    },
    {
      "cell_type": "code",
      "metadata": {
        "colab": {
          "base_uri": "https://localhost:8080/"
        },
        "id": "DAQObF1x7tRe",
        "outputId": "7dce364e-b9a0-4cd5-ddef-e79dd0909c62"
      },
      "source": [
        "df_one_LT.shape"
      ],
      "execution_count": null,
      "outputs": [
        {
          "output_type": "execute_result",
          "data": {
            "text/plain": [
              "(283221, 13)"
            ]
          },
          "metadata": {},
          "execution_count": 56
        }
      ]
    },
    {
      "cell_type": "code",
      "metadata": {
        "colab": {
          "base_uri": "https://localhost:8080/",
          "height": 145
        },
        "id": "TegiJdcj72B2",
        "outputId": "db2b295a-b9a3-4c31-f833-7e6e62fb5dfe"
      },
      "source": [
        "# LT list of 8/8/2021\n",
        "df_one_LT_882021 = df_one_LT.loc[(df_one_LT['CreatedDate'] >= '8/8/2021') & (df_one_LT['CreatedDate'] < '8/9/2021')]\n",
        "df_one_LT_882021.tail(2)"
      ],
      "execution_count": null,
      "outputs": [
        {
          "output_type": "execute_result",
          "data": {
            "text/html": [
              "<div>\n",
              "<style scoped>\n",
              "    .dataframe tbody tr th:only-of-type {\n",
              "        vertical-align: middle;\n",
              "    }\n",
              "\n",
              "    .dataframe tbody tr th {\n",
              "        vertical-align: top;\n",
              "    }\n",
              "\n",
              "    .dataframe thead th {\n",
              "        text-align: right;\n",
              "    }\n",
              "</style>\n",
              "<table border=\"1\" class=\"dataframe\">\n",
              "  <thead>\n",
              "    <tr style=\"text-align: right;\">\n",
              "      <th></th>\n",
              "      <th>CreatedDate</th>\n",
              "      <th>Email</th>\n",
              "      <th>HasOptedOutOfEmail</th>\n",
              "      <th>FirstName</th>\n",
              "      <th>LastName</th>\n",
              "      <th>Loan_Status__c</th>\n",
              "      <th>MobilePhone</th>\n",
              "      <th>Phone</th>\n",
              "      <th>State__c</th>\n",
              "      <th>Status</th>\n",
              "      <th>Affiliate_Name__c</th>\n",
              "      <th>Is_Homeowner__c</th>\n",
              "      <th>IsConverted</th>\n",
              "    </tr>\n",
              "  </thead>\n",
              "  <tbody>\n",
              "    <tr>\n",
              "      <th>1943185</th>\n",
              "      <td>8/8/2021 8:40:13 PM</td>\n",
              "      <td>rrcrosby@hotmail.com</td>\n",
              "      <td>False</td>\n",
              "      <td>RACHAEL</td>\n",
              "      <td>CROSBY</td>\n",
              "      <td>Pending Denial</td>\n",
              "      <td>NaN</td>\n",
              "      <td>7728281028</td>\n",
              "      <td>FL</td>\n",
              "      <td>Rejected Lead</td>\n",
              "      <td>Lending Tree - C</td>\n",
              "      <td>True</td>\n",
              "      <td>False</td>\n",
              "    </tr>\n",
              "    <tr>\n",
              "      <th>1943186</th>\n",
              "      <td>8/8/2021 8:40:22 PM</td>\n",
              "      <td>adgeisdope@icloud.com</td>\n",
              "      <td>False</td>\n",
              "      <td>ADRIAN</td>\n",
              "      <td>PERRY</td>\n",
              "      <td>Pending Denial</td>\n",
              "      <td>NaN</td>\n",
              "      <td>2094208805</td>\n",
              "      <td>CA</td>\n",
              "      <td>Rejected Lead</td>\n",
              "      <td>Lending Tree - C</td>\n",
              "      <td>False</td>\n",
              "      <td>False</td>\n",
              "    </tr>\n",
              "  </tbody>\n",
              "</table>\n",
              "</div>"
            ],
            "text/plain": [
              "                 CreatedDate  ... IsConverted\n",
              "1943185  8/8/2021 8:40:13 PM  ...       False\n",
              "1943186  8/8/2021 8:40:22 PM  ...       False\n",
              "\n",
              "[2 rows x 13 columns]"
            ]
          },
          "metadata": {},
          "execution_count": 57
        }
      ]
    },
    {
      "cell_type": "code",
      "metadata": {
        "colab": {
          "base_uri": "https://localhost:8080/"
        },
        "id": "1RHpiGh78Is5",
        "outputId": "8c596dcc-2659-4f80-c7a7-cfbc03023cf3"
      },
      "source": [
        "df_one_LT_882021.shape"
      ],
      "execution_count": null,
      "outputs": [
        {
          "output_type": "execute_result",
          "data": {
            "text/plain": [
              "(2053, 13)"
            ]
          },
          "metadata": {},
          "execution_count": 58
        }
      ]
    },
    {
      "cell_type": "code",
      "metadata": {
        "colab": {
          "base_uri": "https://localhost:8080/"
        },
        "id": "eoiUD1NHg6Q7",
        "outputId": "edcfcd97-3896-4185-a2a4-6bd72278424d"
      },
      "source": [
        "data_homeowner['Is_Homeowner__c'].value_counts()"
      ],
      "execution_count": null,
      "outputs": [
        {
          "output_type": "execute_result",
          "data": {
            "text/plain": [
              "False    2629344\n",
              "True      443393\n",
              "Name: Is_Homeowner__c, dtype: int64"
            ]
          },
          "metadata": {},
          "execution_count": 64
        }
      ]
    },
    {
      "cell_type": "code",
      "metadata": {
        "colab": {
          "base_uri": "https://localhost:8080/"
        },
        "id": "iWMnrlQEUsIh",
        "outputId": "99d7e4fa-a50c-4a95-c39e-4190aa43faab"
      },
      "source": [
        "percentage(443393,2629344)"
      ],
      "execution_count": null,
      "outputs": [
        {
          "output_type": "execute_result",
          "data": {
            "text/plain": [
              "16.86325562573783"
            ]
          },
          "metadata": {},
          "execution_count": 65
        }
      ]
    },
    {
      "cell_type": "code",
      "metadata": {
        "colab": {
          "base_uri": "https://localhost:8080/",
          "height": 165
        },
        "id": "1j39iEXThhU1",
        "outputId": "79b7b29c-9a37-491f-f621-abd446811458"
      },
      "source": [
        "# Select only Home owner list\n",
        "df_homeowner_list = data_homeowner[data_homeowner.Is_Homeowner__c == True]\n",
        "df_homeowner_list.tail(2)"
      ],
      "execution_count": null,
      "outputs": [
        {
          "output_type": "execute_result",
          "data": {
            "text/html": [
              "<div>\n",
              "<style scoped>\n",
              "    .dataframe tbody tr th:only-of-type {\n",
              "        vertical-align: middle;\n",
              "    }\n",
              "\n",
              "    .dataframe tbody tr th {\n",
              "        vertical-align: top;\n",
              "    }\n",
              "\n",
              "    .dataframe thead th {\n",
              "        text-align: right;\n",
              "    }\n",
              "</style>\n",
              "<table border=\"1\" class=\"dataframe\">\n",
              "  <thead>\n",
              "    <tr style=\"text-align: right;\">\n",
              "      <th></th>\n",
              "      <th>CreatedDate</th>\n",
              "      <th>Email</th>\n",
              "      <th>HasOptedOutOfEmail</th>\n",
              "      <th>FirstName</th>\n",
              "      <th>LastName</th>\n",
              "      <th>Loan_Status__c</th>\n",
              "      <th>MobilePhone</th>\n",
              "      <th>Phone</th>\n",
              "      <th>State__c</th>\n",
              "      <th>Status</th>\n",
              "      <th>Affiliate_Name__c</th>\n",
              "      <th>Is_Homeowner__c</th>\n",
              "      <th>IsConverted</th>\n",
              "    </tr>\n",
              "  </thead>\n",
              "  <tbody>\n",
              "    <tr>\n",
              "      <th>1946310</th>\n",
              "      <td>8/18/2021 8:22:11 AM</td>\n",
              "      <td>erica.mcbride513@gmail.com</td>\n",
              "      <td>False</td>\n",
              "      <td>ERICA</td>\n",
              "      <td>MCBRIDE</td>\n",
              "      <td>Pending Approval</td>\n",
              "      <td>5139039951</td>\n",
              "      <td>5139039951</td>\n",
              "      <td>OH</td>\n",
              "      <td>Rejected Lead</td>\n",
              "      <td>QuinStreet - C</td>\n",
              "      <td>True</td>\n",
              "      <td>False</td>\n",
              "    </tr>\n",
              "    <tr>\n",
              "      <th>1946313</th>\n",
              "      <td>8/18/2021 8:22:13 AM</td>\n",
              "      <td>gabriel_hodson@yahoo.com</td>\n",
              "      <td>False</td>\n",
              "      <td>GABRIEL</td>\n",
              "      <td>HODSON</td>\n",
              "      <td>Pending Approval</td>\n",
              "      <td>8437519200</td>\n",
              "      <td>8437519200</td>\n",
              "      <td>SC</td>\n",
              "      <td>Rejected Lead</td>\n",
              "      <td>Monevo - C</td>\n",
              "      <td>True</td>\n",
              "      <td>False</td>\n",
              "    </tr>\n",
              "  </tbody>\n",
              "</table>\n",
              "</div>"
            ],
            "text/plain": [
              "                  CreatedDate  ... IsConverted\n",
              "1946310  8/18/2021 8:22:11 AM  ...       False\n",
              "1946313  8/18/2021 8:22:13 AM  ...       False\n",
              "\n",
              "[2 rows x 13 columns]"
            ]
          },
          "metadata": {},
          "execution_count": 61
        }
      ]
    },
    {
      "cell_type": "code",
      "metadata": {
        "id": "gn52syChsQcY"
      },
      "source": [
        "df_homeowner_list.info"
      ],
      "execution_count": null,
      "outputs": []
    },
    {
      "cell_type": "code",
      "metadata": {
        "colab": {
          "base_uri": "https://localhost:8080/"
        },
        "id": "adx9dORBjft4",
        "outputId": "734bd27f-bd74-434e-a42a-2ba46afa3ec9"
      },
      "source": [
        "df_homeowner_list.shape"
      ],
      "execution_count": null,
      "outputs": [
        {
          "output_type": "execute_result",
          "data": {
            "text/plain": [
              "(222172, 13)"
            ]
          },
          "metadata": {},
          "execution_count": 21
        }
      ]
    },
    {
      "cell_type": "code",
      "metadata": {
        "id": "rhvK5PlsTQHM"
      },
      "source": [
        ""
      ],
      "execution_count": null,
      "outputs": []
    },
    {
      "cell_type": "code",
      "metadata": {
        "colab": {
          "base_uri": "https://localhost:8080/",
          "height": 182
        },
        "id": "02mln-L0hCg5",
        "outputId": "33f395c4-fc81-4102-9d1e-2528abdf1eab"
      },
      "source": [
        "# homeowner list of 8/8/2021\n",
        "df_homeowner_list_882021 = df_homeowner_list.loc[(df_homeowner_list['CreatedDate'] >= '8/8/2021') & (df_homeowner_list['CreatedDate'] < '8/9/2021')]\n",
        "df_homeowner_list_882021.tail(2)"
      ],
      "execution_count": null,
      "outputs": [
        {
          "output_type": "execute_result",
          "data": {
            "text/html": [
              "<div>\n",
              "<style scoped>\n",
              "    .dataframe tbody tr th:only-of-type {\n",
              "        vertical-align: middle;\n",
              "    }\n",
              "\n",
              "    .dataframe tbody tr th {\n",
              "        vertical-align: top;\n",
              "    }\n",
              "\n",
              "    .dataframe thead th {\n",
              "        text-align: right;\n",
              "    }\n",
              "</style>\n",
              "<table border=\"1\" class=\"dataframe\">\n",
              "  <thead>\n",
              "    <tr style=\"text-align: right;\">\n",
              "      <th></th>\n",
              "      <th>CreatedDate</th>\n",
              "      <th>Email</th>\n",
              "      <th>HasOptedOutOfEmail</th>\n",
              "      <th>FirstName</th>\n",
              "      <th>LastName</th>\n",
              "      <th>Loan_Status__c</th>\n",
              "      <th>MobilePhone</th>\n",
              "      <th>Phone</th>\n",
              "      <th>State__c</th>\n",
              "      <th>Status</th>\n",
              "      <th>Affiliate_Name__c</th>\n",
              "      <th>Is_Homeowner__c</th>\n",
              "      <th>IsConverted</th>\n",
              "    </tr>\n",
              "  </thead>\n",
              "  <tbody>\n",
              "    <tr>\n",
              "      <th>1943172</th>\n",
              "      <td>8/8/2021 8:36:44 PM</td>\n",
              "      <td>nicholasharrist@hotmail.com</td>\n",
              "      <td>False</td>\n",
              "      <td>ELAINA</td>\n",
              "      <td>WASSOM</td>\n",
              "      <td>Pending Approval</td>\n",
              "      <td>NaN</td>\n",
              "      <td>7659671623</td>\n",
              "      <td>OH</td>\n",
              "      <td>Called - Left Message</td>\n",
              "      <td>Lending Tree - C</td>\n",
              "      <td>True</td>\n",
              "      <td>False</td>\n",
              "    </tr>\n",
              "    <tr>\n",
              "      <th>1943185</th>\n",
              "      <td>8/8/2021 8:40:13 PM</td>\n",
              "      <td>rrcrosby@hotmail.com</td>\n",
              "      <td>False</td>\n",
              "      <td>RACHAEL</td>\n",
              "      <td>CROSBY</td>\n",
              "      <td>Pending Denial</td>\n",
              "      <td>NaN</td>\n",
              "      <td>7728281028</td>\n",
              "      <td>FL</td>\n",
              "      <td>Rejected Lead</td>\n",
              "      <td>Lending Tree - C</td>\n",
              "      <td>True</td>\n",
              "      <td>False</td>\n",
              "    </tr>\n",
              "  </tbody>\n",
              "</table>\n",
              "</div>"
            ],
            "text/plain": [
              "                 CreatedDate  ... IsConverted\n",
              "1943172  8/8/2021 8:36:44 PM  ...       False\n",
              "1943185  8/8/2021 8:40:13 PM  ...       False\n",
              "\n",
              "[2 rows x 13 columns]"
            ]
          },
          "metadata": {},
          "execution_count": 63
        }
      ]
    },
    {
      "cell_type": "code",
      "metadata": {
        "colab": {
          "base_uri": "https://localhost:8080/"
        },
        "id": "cwbZvOF05_w3",
        "outputId": "1d2d34f1-cd45-42c4-8e2d-bc0e606d1b07"
      },
      "source": [
        "df_homeowner_list_882021.shape"
      ],
      "execution_count": null,
      "outputs": [
        {
          "output_type": "execute_result",
          "data": {
            "text/plain": [
              "(403, 13)"
            ]
          },
          "metadata": {},
          "execution_count": 64
        }
      ]
    },
    {
      "cell_type": "code",
      "metadata": {
        "colab": {
          "base_uri": "https://localhost:8080/",
          "height": 182
        },
        "id": "hHDajSZthgU2",
        "outputId": "b1b461a1-1b6d-4adc-9b1f-d2ca0493dca4"
      },
      "source": [
        "df_homeowner_list_LT = df_homeowner_list[df_homeowner_list.Affiliate_Name__c == 'Lending Tree - C']\n",
        "df_homeowner_list_LT.head(2)"
      ],
      "execution_count": null,
      "outputs": [
        {
          "output_type": "execute_result",
          "data": {
            "text/html": [
              "<div>\n",
              "<style scoped>\n",
              "    .dataframe tbody tr th:only-of-type {\n",
              "        vertical-align: middle;\n",
              "    }\n",
              "\n",
              "    .dataframe tbody tr th {\n",
              "        vertical-align: top;\n",
              "    }\n",
              "\n",
              "    .dataframe thead th {\n",
              "        text-align: right;\n",
              "    }\n",
              "</style>\n",
              "<table border=\"1\" class=\"dataframe\">\n",
              "  <thead>\n",
              "    <tr style=\"text-align: right;\">\n",
              "      <th></th>\n",
              "      <th>CreatedDate</th>\n",
              "      <th>Email</th>\n",
              "      <th>HasOptedOutOfEmail</th>\n",
              "      <th>FirstName</th>\n",
              "      <th>LastName</th>\n",
              "      <th>Loan_Status__c</th>\n",
              "      <th>MobilePhone</th>\n",
              "      <th>Phone</th>\n",
              "      <th>State__c</th>\n",
              "      <th>Status</th>\n",
              "      <th>Affiliate_Name__c</th>\n",
              "      <th>Is_Homeowner__c</th>\n",
              "      <th>IsConverted</th>\n",
              "    </tr>\n",
              "  </thead>\n",
              "  <tbody>\n",
              "    <tr>\n",
              "      <th>15</th>\n",
              "      <td>5/24/2021 11:34:29 AM</td>\n",
              "      <td>ramdaschandra@hotmail.com</td>\n",
              "      <td>False</td>\n",
              "      <td>RAMDAS</td>\n",
              "      <td>CHANDRA</td>\n",
              "      <td>Denied</td>\n",
              "      <td>NaN</td>\n",
              "      <td>9544480552</td>\n",
              "      <td>FL</td>\n",
              "      <td>Called - Left Message</td>\n",
              "      <td>Lending Tree - C</td>\n",
              "      <td>True</td>\n",
              "      <td>False</td>\n",
              "    </tr>\n",
              "    <tr>\n",
              "      <th>154</th>\n",
              "      <td>5/24/2021 12:44:43 PM</td>\n",
              "      <td>riopedre.javier@gmail.com</td>\n",
              "      <td>False</td>\n",
              "      <td>JAVIER</td>\n",
              "      <td>RIOPEDRE</td>\n",
              "      <td>Denied</td>\n",
              "      <td>NaN</td>\n",
              "      <td>8502576860</td>\n",
              "      <td>FL</td>\n",
              "      <td>Rejected Lead</td>\n",
              "      <td>Lending Tree - C</td>\n",
              "      <td>True</td>\n",
              "      <td>False</td>\n",
              "    </tr>\n",
              "  </tbody>\n",
              "</table>\n",
              "</div>"
            ],
            "text/plain": [
              "               CreatedDate  ... IsConverted\n",
              "15   5/24/2021 11:34:29 AM  ...       False\n",
              "154  5/24/2021 12:44:43 PM  ...       False\n",
              "\n",
              "[2 rows x 13 columns]"
            ]
          },
          "metadata": {},
          "execution_count": 65
        }
      ]
    },
    {
      "cell_type": "code",
      "metadata": {
        "colab": {
          "base_uri": "https://localhost:8080/"
        },
        "id": "cc82XQ_jt5Dm",
        "outputId": "05c00d54-40d2-4a77-b7b5-2c7a82f2677a"
      },
      "source": [
        "df_homeowner_list_LT.shape"
      ],
      "execution_count": null,
      "outputs": [
        {
          "output_type": "execute_result",
          "data": {
            "text/plain": [
              "(29422, 13)"
            ]
          },
          "metadata": {},
          "execution_count": 66
        }
      ]
    },
    {
      "cell_type": "code",
      "metadata": {
        "colab": {
          "base_uri": "https://localhost:8080/",
          "height": 179
        },
        "id": "75agxd770-0h",
        "outputId": "012df79f-1690-46c3-da35-3a4a30cff64a"
      },
      "source": [
        "df_homeowner_list_LT_CA = df_homeowner_list_LT[df_homeowner_list_LT.State__c == 'CA']\n",
        "df_homeowner_list_LT_CA.head(2)"
      ],
      "execution_count": null,
      "outputs": [
        {
          "output_type": "execute_result",
          "data": {
            "text/html": [
              "<div>\n",
              "<style scoped>\n",
              "    .dataframe tbody tr th:only-of-type {\n",
              "        vertical-align: middle;\n",
              "    }\n",
              "\n",
              "    .dataframe tbody tr th {\n",
              "        vertical-align: top;\n",
              "    }\n",
              "\n",
              "    .dataframe thead th {\n",
              "        text-align: right;\n",
              "    }\n",
              "</style>\n",
              "<table border=\"1\" class=\"dataframe\">\n",
              "  <thead>\n",
              "    <tr style=\"text-align: right;\">\n",
              "      <th></th>\n",
              "      <th>CreatedDate</th>\n",
              "      <th>Email</th>\n",
              "      <th>HasOptedOutOfEmail</th>\n",
              "      <th>FirstName</th>\n",
              "      <th>LastName</th>\n",
              "      <th>Loan_Status__c</th>\n",
              "      <th>MobilePhone</th>\n",
              "      <th>Phone</th>\n",
              "      <th>State__c</th>\n",
              "      <th>Status</th>\n",
              "      <th>Affiliate_Name__c</th>\n",
              "      <th>Is_Homeowner__c</th>\n",
              "      <th>IsConverted</th>\n",
              "    </tr>\n",
              "  </thead>\n",
              "  <tbody>\n",
              "    <tr>\n",
              "      <th>1225</th>\n",
              "      <td>5/27/2021 10:18:54 AM</td>\n",
              "      <td>tinango85@yahoo.com</td>\n",
              "      <td>False</td>\n",
              "      <td>TINA</td>\n",
              "      <td>NGO</td>\n",
              "      <td>Denied</td>\n",
              "      <td>NaN</td>\n",
              "      <td>5626078391</td>\n",
              "      <td>CA</td>\n",
              "      <td>Called - Left Message</td>\n",
              "      <td>Lending Tree - C</td>\n",
              "      <td>True</td>\n",
              "      <td>False</td>\n",
              "    </tr>\n",
              "    <tr>\n",
              "      <th>2069</th>\n",
              "      <td>6/16/2021 12:53:28 PM</td>\n",
              "      <td>josefleytas10@gmail.com</td>\n",
              "      <td>False</td>\n",
              "      <td>JOSE</td>\n",
              "      <td>FLEYTAS</td>\n",
              "      <td>Denied</td>\n",
              "      <td>NaN</td>\n",
              "      <td>3105084705</td>\n",
              "      <td>CA</td>\n",
              "      <td>Called - Left Message</td>\n",
              "      <td>Lending Tree - C</td>\n",
              "      <td>True</td>\n",
              "      <td>False</td>\n",
              "    </tr>\n",
              "  </tbody>\n",
              "</table>\n",
              "</div>"
            ],
            "text/plain": [
              "                CreatedDate  ... IsConverted\n",
              "1225  5/27/2021 10:18:54 AM  ...       False\n",
              "2069  6/16/2021 12:53:28 PM  ...       False\n",
              "\n",
              "[2 rows x 13 columns]"
            ]
          },
          "metadata": {},
          "execution_count": 67
        }
      ]
    },
    {
      "cell_type": "code",
      "metadata": {
        "colab": {
          "base_uri": "https://localhost:8080/"
        },
        "id": "R8iTsdnR1JAz",
        "outputId": "8e18b151-87c3-4352-afbd-7d8ec7bff71e"
      },
      "source": [
        "df_homeowner_list_LT_CA.shape"
      ],
      "execution_count": null,
      "outputs": [
        {
          "output_type": "execute_result",
          "data": {
            "text/plain": [
              "(2637, 13)"
            ]
          },
          "metadata": {},
          "execution_count": 68
        }
      ]
    },
    {
      "cell_type": "code",
      "metadata": {
        "id": "g1skzj0r3JiF"
      },
      "source": [
        "# Ways to filter multiple columns in dataset\n",
        "# tom_and_42 = df[(df[\"Name\"]==\"Tom\") & (df[\"Age\"]==42)]\n",
        "# tom_or_34 = df[(df[\"Name\"]==\"Tom\") | (df[\"Age\"]==34)]\n",
        "# tom42_or_34 = df[((df[\"Name\"]==\"Tom\") & (df[\"Age\"]<=42)) | (df[\"Age\"]<=34)]"
      ],
      "execution_count": null,
      "outputs": []
    },
    {
      "cell_type": "code",
      "metadata": {
        "colab": {
          "base_uri": "https://localhost:8080/",
          "height": 179
        },
        "id": "65Ubrxiu2Kth",
        "outputId": "76ea71c2-7672-405f-f29b-0f079c412605"
      },
      "source": [
        "# list of homeowners in CA from Lending Tree\n",
        "df_homeowner_list_LT_CA = df_homeowner_list[(df_homeowner_list['State__c'] == 'CA') & (df_homeowner_list['Affiliate_Name__c'] == 'Lending Tree - C')]\n",
        "df_homeowner_list_LT_CA.head(2)"
      ],
      "execution_count": null,
      "outputs": [
        {
          "output_type": "execute_result",
          "data": {
            "text/html": [
              "<div>\n",
              "<style scoped>\n",
              "    .dataframe tbody tr th:only-of-type {\n",
              "        vertical-align: middle;\n",
              "    }\n",
              "\n",
              "    .dataframe tbody tr th {\n",
              "        vertical-align: top;\n",
              "    }\n",
              "\n",
              "    .dataframe thead th {\n",
              "        text-align: right;\n",
              "    }\n",
              "</style>\n",
              "<table border=\"1\" class=\"dataframe\">\n",
              "  <thead>\n",
              "    <tr style=\"text-align: right;\">\n",
              "      <th></th>\n",
              "      <th>CreatedDate</th>\n",
              "      <th>Email</th>\n",
              "      <th>HasOptedOutOfEmail</th>\n",
              "      <th>FirstName</th>\n",
              "      <th>LastName</th>\n",
              "      <th>Loan_Status__c</th>\n",
              "      <th>MobilePhone</th>\n",
              "      <th>Phone</th>\n",
              "      <th>State__c</th>\n",
              "      <th>Status</th>\n",
              "      <th>Affiliate_Name__c</th>\n",
              "      <th>Is_Homeowner__c</th>\n",
              "      <th>IsConverted</th>\n",
              "    </tr>\n",
              "  </thead>\n",
              "  <tbody>\n",
              "    <tr>\n",
              "      <th>1225</th>\n",
              "      <td>5/27/2021 10:18:54 AM</td>\n",
              "      <td>tinango85@yahoo.com</td>\n",
              "      <td>False</td>\n",
              "      <td>TINA</td>\n",
              "      <td>NGO</td>\n",
              "      <td>Denied</td>\n",
              "      <td>NaN</td>\n",
              "      <td>5626078391</td>\n",
              "      <td>CA</td>\n",
              "      <td>Called - Left Message</td>\n",
              "      <td>Lending Tree - C</td>\n",
              "      <td>True</td>\n",
              "      <td>False</td>\n",
              "    </tr>\n",
              "    <tr>\n",
              "      <th>2069</th>\n",
              "      <td>6/16/2021 12:53:28 PM</td>\n",
              "      <td>josefleytas10@gmail.com</td>\n",
              "      <td>False</td>\n",
              "      <td>JOSE</td>\n",
              "      <td>FLEYTAS</td>\n",
              "      <td>Denied</td>\n",
              "      <td>NaN</td>\n",
              "      <td>3105084705</td>\n",
              "      <td>CA</td>\n",
              "      <td>Called - Left Message</td>\n",
              "      <td>Lending Tree - C</td>\n",
              "      <td>True</td>\n",
              "      <td>False</td>\n",
              "    </tr>\n",
              "  </tbody>\n",
              "</table>\n",
              "</div>"
            ],
            "text/plain": [
              "                CreatedDate  ... IsConverted\n",
              "1225  5/27/2021 10:18:54 AM  ...       False\n",
              "2069  6/16/2021 12:53:28 PM  ...       False\n",
              "\n",
              "[2 rows x 13 columns]"
            ]
          },
          "metadata": {},
          "execution_count": 69
        }
      ]
    },
    {
      "cell_type": "code",
      "metadata": {
        "colab": {
          "base_uri": "https://localhost:8080/"
        },
        "id": "JFk4jvOy4Coo",
        "outputId": "4c37d42d-f7fe-4e70-e1d1-ffdd138709fc"
      },
      "source": [
        "df_homeowner_list_LT_CA.shape"
      ],
      "execution_count": null,
      "outputs": [
        {
          "output_type": "execute_result",
          "data": {
            "text/plain": [
              "(2637, 13)"
            ]
          },
          "metadata": {},
          "execution_count": 70
        }
      ]
    },
    {
      "cell_type": "code",
      "metadata": {
        "colab": {
          "base_uri": "https://localhost:8080/",
          "height": 182
        },
        "id": "CKUOUXbk4CkX",
        "outputId": "70af953b-76e8-4c00-9587-d9ec59bcd071"
      },
      "source": [
        "# list of homeowners in DE from Lending Tree\n",
        "df_homeowner_list_LT_DE = df_homeowner_list[(df_homeowner_list['State__c'] == 'DE') & (df_homeowner_list['Affiliate_Name__c'] == 'Lending Tree - C')]\n",
        "df_homeowner_list_LT_DE.head(2)"
      ],
      "execution_count": null,
      "outputs": [
        {
          "output_type": "execute_result",
          "data": {
            "text/html": [
              "<div>\n",
              "<style scoped>\n",
              "    .dataframe tbody tr th:only-of-type {\n",
              "        vertical-align: middle;\n",
              "    }\n",
              "\n",
              "    .dataframe tbody tr th {\n",
              "        vertical-align: top;\n",
              "    }\n",
              "\n",
              "    .dataframe thead th {\n",
              "        text-align: right;\n",
              "    }\n",
              "</style>\n",
              "<table border=\"1\" class=\"dataframe\">\n",
              "  <thead>\n",
              "    <tr style=\"text-align: right;\">\n",
              "      <th></th>\n",
              "      <th>CreatedDate</th>\n",
              "      <th>Email</th>\n",
              "      <th>HasOptedOutOfEmail</th>\n",
              "      <th>FirstName</th>\n",
              "      <th>LastName</th>\n",
              "      <th>Loan_Status__c</th>\n",
              "      <th>MobilePhone</th>\n",
              "      <th>Phone</th>\n",
              "      <th>State__c</th>\n",
              "      <th>Status</th>\n",
              "      <th>Affiliate_Name__c</th>\n",
              "      <th>Is_Homeowner__c</th>\n",
              "      <th>IsConverted</th>\n",
              "    </tr>\n",
              "  </thead>\n",
              "  <tbody>\n",
              "    <tr>\n",
              "      <th>1943</th>\n",
              "      <td>6/11/2021 7:17:16 AM</td>\n",
              "      <td>a_merg@yahoo.com</td>\n",
              "      <td>False</td>\n",
              "      <td>ANGELA</td>\n",
              "      <td>MERGENTHALER</td>\n",
              "      <td>Denied</td>\n",
              "      <td>NaN</td>\n",
              "      <td>3025590659</td>\n",
              "      <td>DE</td>\n",
              "      <td>Called - Left Message</td>\n",
              "      <td>Lending Tree - C</td>\n",
              "      <td>True</td>\n",
              "      <td>False</td>\n",
              "    </tr>\n",
              "    <tr>\n",
              "      <th>7490</th>\n",
              "      <td>4/22/2021 1:51:44 PM</td>\n",
              "      <td>eric.hicks@foxroach.com</td>\n",
              "      <td>False</td>\n",
              "      <td>ERIC</td>\n",
              "      <td>HICKS</td>\n",
              "      <td>Denied</td>\n",
              "      <td>NaN</td>\n",
              "      <td>3023575041</td>\n",
              "      <td>DE</td>\n",
              "      <td>Rejected Lead</td>\n",
              "      <td>Lending Tree - C</td>\n",
              "      <td>True</td>\n",
              "      <td>False</td>\n",
              "    </tr>\n",
              "  </tbody>\n",
              "</table>\n",
              "</div>"
            ],
            "text/plain": [
              "               CreatedDate  ... IsConverted\n",
              "1943  6/11/2021 7:17:16 AM  ...       False\n",
              "7490  4/22/2021 1:51:44 PM  ...       False\n",
              "\n",
              "[2 rows x 13 columns]"
            ]
          },
          "metadata": {},
          "execution_count": 71
        }
      ]
    },
    {
      "cell_type": "code",
      "metadata": {
        "colab": {
          "base_uri": "https://localhost:8080/"
        },
        "id": "3eW4I8UB4zdC",
        "outputId": "4700bded-0941-4f61-a9df-094ea238568c"
      },
      "source": [
        "df_homeowner_list_LT_DE.shape"
      ],
      "execution_count": null,
      "outputs": [
        {
          "output_type": "execute_result",
          "data": {
            "text/plain": [
              "(392, 13)"
            ]
          },
          "metadata": {},
          "execution_count": 72
        }
      ]
    },
    {
      "cell_type": "code",
      "metadata": {
        "colab": {
          "base_uri": "https://localhost:8080/",
          "height": 199
        },
        "id": "HjZmuv9Y44tJ",
        "outputId": "676ddab8-258f-436d-9bfd-2df19ea4e5ff"
      },
      "source": [
        "# list of homeowners in TN from Lending Tree\n",
        "df_homeowner_list_LT_TN = df_homeowner_list[(df_homeowner_list['State__c'] == 'TN') & (df_homeowner_list['Affiliate_Name__c'] == 'Lending Tree - C')]\n",
        "df_homeowner_list_LT_TN.head(2)"
      ],
      "execution_count": null,
      "outputs": [
        {
          "output_type": "execute_result",
          "data": {
            "text/html": [
              "<div>\n",
              "<style scoped>\n",
              "    .dataframe tbody tr th:only-of-type {\n",
              "        vertical-align: middle;\n",
              "    }\n",
              "\n",
              "    .dataframe tbody tr th {\n",
              "        vertical-align: top;\n",
              "    }\n",
              "\n",
              "    .dataframe thead th {\n",
              "        text-align: right;\n",
              "    }\n",
              "</style>\n",
              "<table border=\"1\" class=\"dataframe\">\n",
              "  <thead>\n",
              "    <tr style=\"text-align: right;\">\n",
              "      <th></th>\n",
              "      <th>CreatedDate</th>\n",
              "      <th>Email</th>\n",
              "      <th>HasOptedOutOfEmail</th>\n",
              "      <th>FirstName</th>\n",
              "      <th>LastName</th>\n",
              "      <th>Loan_Status__c</th>\n",
              "      <th>MobilePhone</th>\n",
              "      <th>Phone</th>\n",
              "      <th>State__c</th>\n",
              "      <th>Status</th>\n",
              "      <th>Affiliate_Name__c</th>\n",
              "      <th>Is_Homeowner__c</th>\n",
              "      <th>IsConverted</th>\n",
              "    </tr>\n",
              "  </thead>\n",
              "  <tbody>\n",
              "    <tr>\n",
              "      <th>4506</th>\n",
              "      <td>6/9/2021 7:26:09 PM</td>\n",
              "      <td>stephaniedosramos2@gmail.com</td>\n",
              "      <td>False</td>\n",
              "      <td>STEPHANIE</td>\n",
              "      <td>DOS RAMOS</td>\n",
              "      <td>Denied</td>\n",
              "      <td>NaN</td>\n",
              "      <td>6157792490</td>\n",
              "      <td>TN</td>\n",
              "      <td>Called - Left Message</td>\n",
              "      <td>Lending Tree - C</td>\n",
              "      <td>True</td>\n",
              "      <td>False</td>\n",
              "    </tr>\n",
              "    <tr>\n",
              "      <th>4809</th>\n",
              "      <td>6/13/2021 3:44:33 PM</td>\n",
              "      <td>ssddiego51@gmail.com</td>\n",
              "      <td>False</td>\n",
              "      <td>JUAN</td>\n",
              "      <td>DIEGO</td>\n",
              "      <td>Denied</td>\n",
              "      <td>NaN</td>\n",
              "      <td>9314728311</td>\n",
              "      <td>TN</td>\n",
              "      <td>Called - Left Message</td>\n",
              "      <td>Lending Tree - C</td>\n",
              "      <td>True</td>\n",
              "      <td>False</td>\n",
              "    </tr>\n",
              "  </tbody>\n",
              "</table>\n",
              "</div>"
            ],
            "text/plain": [
              "               CreatedDate  ... IsConverted\n",
              "4506   6/9/2021 7:26:09 PM  ...       False\n",
              "4809  6/13/2021 3:44:33 PM  ...       False\n",
              "\n",
              "[2 rows x 13 columns]"
            ]
          },
          "metadata": {},
          "execution_count": 73
        }
      ]
    },
    {
      "cell_type": "code",
      "metadata": {
        "colab": {
          "base_uri": "https://localhost:8080/"
        },
        "id": "dWxkKF9X44ZR",
        "outputId": "d9b68df5-08c8-4bde-9664-8ce51319fb88"
      },
      "source": [
        "df_homeowner_list_LT_TN.shape"
      ],
      "execution_count": null,
      "outputs": [
        {
          "output_type": "execute_result",
          "data": {
            "text/plain": [
              "(1129, 13)"
            ]
          },
          "metadata": {},
          "execution_count": 74
        }
      ]
    },
    {
      "cell_type": "code",
      "metadata": {
        "id": "N06GMx495CFE"
      },
      "source": [
        ""
      ],
      "execution_count": null,
      "outputs": []
    },
    {
      "cell_type": "code",
      "metadata": {
        "id": "eLLstYg2xyuu"
      },
      "source": [
        "import matplotlib.pyplot as plt\n",
        "import numpy as np\n",
        "#matplotlib.pyplot.scatter"
      ],
      "execution_count": null,
      "outputs": []
    },
    {
      "cell_type": "code",
      "metadata": {
        "colab": {
          "base_uri": "https://localhost:8080/",
          "height": 230
        },
        "id": "uK8gRSL-ysom",
        "outputId": "dc550740-3026-4c8a-8573-6d90cf7ba137"
      },
      "source": [
        "df_homeowner_list.head(3)"
      ],
      "execution_count": null,
      "outputs": [
        {
          "output_type": "execute_result",
          "data": {
            "text/html": [
              "<div>\n",
              "<style scoped>\n",
              "    .dataframe tbody tr th:only-of-type {\n",
              "        vertical-align: middle;\n",
              "    }\n",
              "\n",
              "    .dataframe tbody tr th {\n",
              "        vertical-align: top;\n",
              "    }\n",
              "\n",
              "    .dataframe thead th {\n",
              "        text-align: right;\n",
              "    }\n",
              "</style>\n",
              "<table border=\"1\" class=\"dataframe\">\n",
              "  <thead>\n",
              "    <tr style=\"text-align: right;\">\n",
              "      <th></th>\n",
              "      <th>CreatedDate</th>\n",
              "      <th>Email</th>\n",
              "      <th>HasOptedOutOfEmail</th>\n",
              "      <th>FirstName</th>\n",
              "      <th>LastName</th>\n",
              "      <th>Loan_Status__c</th>\n",
              "      <th>MobilePhone</th>\n",
              "      <th>Phone</th>\n",
              "      <th>State__c</th>\n",
              "      <th>Status</th>\n",
              "      <th>Affiliate_Name__c</th>\n",
              "      <th>Is_Homeowner__c</th>\n",
              "      <th>IsConverted</th>\n",
              "    </tr>\n",
              "  </thead>\n",
              "  <tbody>\n",
              "    <tr>\n",
              "      <th>2</th>\n",
              "      <td>5/24/2021 11:34:12 AM</td>\n",
              "      <td>mwilliams0804@gmail.com</td>\n",
              "      <td>False</td>\n",
              "      <td>MARSHA</td>\n",
              "      <td>WILLIAMS</td>\n",
              "      <td>Pending Approval</td>\n",
              "      <td>3027503090</td>\n",
              "      <td>3027503090</td>\n",
              "      <td>DE</td>\n",
              "      <td>Rejected Lead</td>\n",
              "      <td>QuinStreet - C</td>\n",
              "      <td>True</td>\n",
              "      <td>False</td>\n",
              "    </tr>\n",
              "    <tr>\n",
              "      <th>15</th>\n",
              "      <td>5/24/2021 11:34:29 AM</td>\n",
              "      <td>ramdaschandra@hotmail.com</td>\n",
              "      <td>False</td>\n",
              "      <td>RAMDAS</td>\n",
              "      <td>CHANDRA</td>\n",
              "      <td>Denied</td>\n",
              "      <td>NaN</td>\n",
              "      <td>9544480552</td>\n",
              "      <td>FL</td>\n",
              "      <td>Called - Left Message</td>\n",
              "      <td>Lending Tree - C</td>\n",
              "      <td>True</td>\n",
              "      <td>False</td>\n",
              "    </tr>\n",
              "    <tr>\n",
              "      <th>27</th>\n",
              "      <td>5/24/2021 12:55:11 PM</td>\n",
              "      <td>rreberwein@aol.com</td>\n",
              "      <td>False</td>\n",
              "      <td>RUSSELL</td>\n",
              "      <td>EBERWEIN</td>\n",
              "      <td>Pending Approval</td>\n",
              "      <td>6145306915</td>\n",
              "      <td>6145306915</td>\n",
              "      <td>OH</td>\n",
              "      <td>Rejected Lead</td>\n",
              "      <td>QuinStreet - C</td>\n",
              "      <td>True</td>\n",
              "      <td>False</td>\n",
              "    </tr>\n",
              "  </tbody>\n",
              "</table>\n",
              "</div>"
            ],
            "text/plain": [
              "              CreatedDate  ... IsConverted\n",
              "2   5/24/2021 11:34:12 AM  ...       False\n",
              "15  5/24/2021 11:34:29 AM  ...       False\n",
              "27  5/24/2021 12:55:11 PM  ...       False\n",
              "\n",
              "[3 rows x 13 columns]"
            ]
          },
          "metadata": {},
          "execution_count": 76
        }
      ]
    },
    {
      "cell_type": "code",
      "metadata": {
        "id": "WBqWZcNB3gGK"
      },
      "source": [
        ""
      ],
      "execution_count": null,
      "outputs": []
    }
  ]
}